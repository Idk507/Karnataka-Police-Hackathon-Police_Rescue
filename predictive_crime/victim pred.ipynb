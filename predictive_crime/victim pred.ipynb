{
 "cells": [
  {
   "cell_type": "code",
   "execution_count": 1,
   "id": "a0eac1a1-0859-46d1-959f-a59d3773ea19",
   "metadata": {},
   "outputs": [],
   "source": [
    "import pandas as pd\n",
    "import seaborn as sns\n",
    "import matplotlib.pyplot as plt\n",
    "import sqlite3\n",
    "import argparse\n",
    "import json\n",
    "import pprint\n",
    "import requests\n",
    "import sys\n",
    "import urllib\n",
    "from urllib.error import HTTPError\n",
    "from urllib.parse import quote\n",
    "from urllib.parse import urlencode\n",
    "%matplotlib inline\n",
    "import seaborn as sns\n",
    "import numpy as np"
   ]
  },
  {
   "cell_type": "code",
   "execution_count": 2,
   "id": "c73fb696-e086-4cac-b0b8-7db9ac981d7e",
   "metadata": {},
   "outputs": [],
   "source": [
    "df = pd.read_csv('preprocessed_df4.csv')"
   ]
  },
  {
   "cell_type": "code",
   "execution_count": 3,
   "id": "1a120779-3ecf-4eec-85bf-a31248f05d3e",
   "metadata": {},
   "outputs": [
    {
     "data": {
      "text/html": [
       "<div>\n",
       "<style scoped>\n",
       "    .dataframe tbody tr th:only-of-type {\n",
       "        vertical-align: middle;\n",
       "    }\n",
       "\n",
       "    .dataframe tbody tr th {\n",
       "        vertical-align: top;\n",
       "    }\n",
       "\n",
       "    .dataframe thead th {\n",
       "        text-align: right;\n",
       "    }\n",
       "</style>\n",
       "<table border=\"1\" class=\"dataframe\">\n",
       "  <thead>\n",
       "    <tr style=\"text-align: right;\">\n",
       "      <th></th>\n",
       "      <th>District_Name</th>\n",
       "      <th>UnitName</th>\n",
       "      <th>FIRNo</th>\n",
       "      <th>Year</th>\n",
       "      <th>Month</th>\n",
       "      <th>VictimName</th>\n",
       "      <th>age</th>\n",
       "      <th>Profession</th>\n",
       "      <th>Sex</th>\n",
       "      <th>PresentAddress</th>\n",
       "      <th>PresentCity</th>\n",
       "      <th>PresentState</th>\n",
       "      <th>PermanentCity</th>\n",
       "      <th>PermanentState</th>\n",
       "      <th>Nationality_Name</th>\n",
       "      <th>PersonType</th>\n",
       "      <th>InjuryType</th>\n",
       "      <th>Crime_No</th>\n",
       "      <th>Arr_ID</th>\n",
       "      <th>Victim_ID</th>\n",
       "    </tr>\n",
       "  </thead>\n",
       "  <tbody>\n",
       "    <tr>\n",
       "      <th>0</th>\n",
       "      <td>Bagalkot</td>\n",
       "      <td>Amengad PS</td>\n",
       "      <td>0005/2016</td>\n",
       "      <td>2016</td>\n",
       "      <td>1</td>\n",
       "      <td>BASxxxxxHMI</td>\n",
       "      <td>60.0</td>\n",
       "      <td>Housewife</td>\n",
       "      <td>2.0</td>\n",
       "      <td>AMBLIKOPPA,TQ-HUNGUND</td>\n",
       "      <td>Bagalkot</td>\n",
       "      <td>Karnataka</td>\n",
       "      <td>Bagalkot</td>\n",
       "      <td>Karnataka</td>\n",
       "      <td>India</td>\n",
       "      <td>Deceased</td>\n",
       "      <td>2.0</td>\n",
       "      <td>10470124520160005</td>\n",
       "      <td>2016000019</td>\n",
       "      <td>2016000007</td>\n",
       "    </tr>\n",
       "    <tr>\n",
       "      <th>1</th>\n",
       "      <td>Bagalkot</td>\n",
       "      <td>Amengad PS</td>\n",
       "      <td>0006/2016</td>\n",
       "      <td>2016</td>\n",
       "      <td>1</td>\n",
       "      <td>IRSxxxxxWAR</td>\n",
       "      <td>40.0</td>\n",
       "      <td>Driver</td>\n",
       "      <td>1.0</td>\n",
       "      <td>BELAGAVI,TQ-BELAGAVI</td>\n",
       "      <td>Bagalkot</td>\n",
       "      <td>Karnataka</td>\n",
       "      <td>Bagalkot</td>\n",
       "      <td>Karnataka</td>\n",
       "      <td>India</td>\n",
       "      <td>Injured</td>\n",
       "      <td>2.0</td>\n",
       "      <td>10470124520160006</td>\n",
       "      <td>2016000021</td>\n",
       "      <td>2016000008</td>\n",
       "    </tr>\n",
       "    <tr>\n",
       "      <th>2</th>\n",
       "      <td>Bagalkot</td>\n",
       "      <td>Amengad PS</td>\n",
       "      <td>0011/2016</td>\n",
       "      <td>2016</td>\n",
       "      <td>1</td>\n",
       "      <td>GANxxxxxRAD</td>\n",
       "      <td>20.0</td>\n",
       "      <td>Labourer</td>\n",
       "      <td>1.0</td>\n",
       "      <td>HIREBADAWADAGI,TQ-HUNAGUND</td>\n",
       "      <td>Bagalkot</td>\n",
       "      <td>Karnataka</td>\n",
       "      <td>Bagalkot</td>\n",
       "      <td>Karnataka</td>\n",
       "      <td>India</td>\n",
       "      <td>Injured</td>\n",
       "      <td>2.0</td>\n",
       "      <td>10470124520160011</td>\n",
       "      <td>2016000044</td>\n",
       "      <td>2016000010</td>\n",
       "    </tr>\n",
       "    <tr>\n",
       "      <th>3</th>\n",
       "      <td>Bagalkot</td>\n",
       "      <td>Amengad PS</td>\n",
       "      <td>0011/2016</td>\n",
       "      <td>2016</td>\n",
       "      <td>1</td>\n",
       "      <td>BASxxxxxAMI</td>\n",
       "      <td>18.0</td>\n",
       "      <td>Farmer</td>\n",
       "      <td>1.0</td>\n",
       "      <td>HIREBADAWADAGI,TQ-HUNAGUND</td>\n",
       "      <td>Bagalkot</td>\n",
       "      <td>Karnataka</td>\n",
       "      <td>Bagalkot</td>\n",
       "      <td>Karnataka</td>\n",
       "      <td>India</td>\n",
       "      <td>Injured</td>\n",
       "      <td>2.0</td>\n",
       "      <td>10470124520160011</td>\n",
       "      <td>2016000043</td>\n",
       "      <td>2016000009</td>\n",
       "    </tr>\n",
       "    <tr>\n",
       "      <th>4</th>\n",
       "      <td>Bagalkot</td>\n",
       "      <td>Amengad PS</td>\n",
       "      <td>0041/2016</td>\n",
       "      <td>2016</td>\n",
       "      <td>2</td>\n",
       "      <td>SHAxxxxxLAD</td>\n",
       "      <td>34.0</td>\n",
       "      <td>Farmer</td>\n",
       "      <td>1.0</td>\n",
       "      <td>SULEBAVI,TQ-HUNAGUND</td>\n",
       "      <td>Bagalkot</td>\n",
       "      <td>Karnataka</td>\n",
       "      <td>Bagalkot</td>\n",
       "      <td>Karnataka</td>\n",
       "      <td>India</td>\n",
       "      <td>Deceased</td>\n",
       "      <td>2.0</td>\n",
       "      <td>10470124520160041</td>\n",
       "      <td>2016000238</td>\n",
       "      <td>2016000018</td>\n",
       "    </tr>\n",
       "  </tbody>\n",
       "</table>\n",
       "</div>"
      ],
      "text/plain": [
       "  District_Name    UnitName      FIRNo  Year  Month   VictimName   age  \\\n",
       "0      Bagalkot  Amengad PS  0005/2016  2016      1  BASxxxxxHMI  60.0   \n",
       "1      Bagalkot  Amengad PS  0006/2016  2016      1  IRSxxxxxWAR  40.0   \n",
       "2      Bagalkot  Amengad PS  0011/2016  2016      1  GANxxxxxRAD  20.0   \n",
       "3      Bagalkot  Amengad PS  0011/2016  2016      1  BASxxxxxAMI  18.0   \n",
       "4      Bagalkot  Amengad PS  0041/2016  2016      2  SHAxxxxxLAD  34.0   \n",
       "\n",
       "   Profession  Sex              PresentAddress PresentCity PresentState  \\\n",
       "0  Housewife   2.0       AMBLIKOPPA,TQ-HUNGUND    Bagalkot    Karnataka   \n",
       "1      Driver  1.0        BELAGAVI,TQ-BELAGAVI    Bagalkot    Karnataka   \n",
       "2   Labourer   1.0  HIREBADAWADAGI,TQ-HUNAGUND    Bagalkot    Karnataka   \n",
       "3     Farmer   1.0  HIREBADAWADAGI,TQ-HUNAGUND    Bagalkot    Karnataka   \n",
       "4     Farmer   1.0        SULEBAVI,TQ-HUNAGUND    Bagalkot    Karnataka   \n",
       "\n",
       "  PermanentCity PermanentState Nationality_Name PersonType  InjuryType  \\\n",
       "0      Bagalkot      Karnataka            India   Deceased         2.0   \n",
       "1      Bagalkot      Karnataka            India    Injured         2.0   \n",
       "2      Bagalkot      Karnataka            India    Injured         2.0   \n",
       "3      Bagalkot      Karnataka            India    Injured         2.0   \n",
       "4      Bagalkot      Karnataka            India   Deceased         2.0   \n",
       "\n",
       "            Crime_No      Arr_ID   Victim_ID  \n",
       "0  10470124520160005  2016000019  2016000007  \n",
       "1  10470124520160006  2016000021  2016000008  \n",
       "2  10470124520160011  2016000044  2016000010  \n",
       "3  10470124520160011  2016000043  2016000009  \n",
       "4  10470124520160041  2016000238  2016000018  "
      ]
     },
     "execution_count": 3,
     "metadata": {},
     "output_type": "execute_result"
    }
   ],
   "source": [
    "df.head()"
   ]
  },
  {
   "cell_type": "code",
   "execution_count": 4,
   "id": "bbb08179-15dd-46ba-a40a-bad3a61f0d6c",
   "metadata": {},
   "outputs": [
    {
     "data": {
      "text/plain": [
       "District_Name        object\n",
       "UnitName             object\n",
       "FIRNo                object\n",
       "Year                  int64\n",
       "Month                 int64\n",
       "VictimName           object\n",
       "age                 float64\n",
       "Profession           object\n",
       "Sex                 float64\n",
       "PresentAddress       object\n",
       "PresentCity          object\n",
       "PresentState         object\n",
       "PermanentCity        object\n",
       "PermanentState       object\n",
       "Nationality_Name     object\n",
       "PersonType           object\n",
       "InjuryType          float64\n",
       "Crime_No              int64\n",
       "Arr_ID                int64\n",
       "Victim_ID             int64\n",
       "dtype: object"
      ]
     },
     "execution_count": 4,
     "metadata": {},
     "output_type": "execute_result"
    }
   ],
   "source": [
    "(df.dtypes)"
   ]
  },
  {
   "cell_type": "code",
   "execution_count": 5,
   "id": "b1b1c37e-dc7a-45ef-b59f-3010085805cb",
   "metadata": {},
   "outputs": [
    {
     "name": "stdout",
     "output_type": "stream",
     "text": [
      "Column: District_Name\n",
      "['Bagalkot' 'Ballari' 'Belagavi City' 'Belagavi Dist' 'Bengaluru City'\n",
      " 'Bengaluru Dist' 'Bidar' 'Chamarajanagar' 'Chickballapura'\n",
      " 'Chikkamagaluru' 'Chitradurga' 'CID' 'Dakshina Kannada' 'Davanagere'\n",
      " 'Dharwad' 'Gadag' 'Hassan' 'Haveri' 'Hubballi Dharwad City'\n",
      " 'ISD Bengaluru' 'K.G.F' 'Kalaburagi' 'Kalaburagi City'\n",
      " 'Karnataka Railways' 'Kodagu' 'Kolar' 'Koppal' 'Mandya' 'Mangaluru City'\n",
      " 'Mysuru City' 'Mysuru Dist' 'Raichur' 'Ramanagara' 'Shivamogga'\n",
      " 'Tumakuru' 'Udupi' 'Uttara Kannada' 'Vijayanagara' 'Vijayapur' 'Yadgir']\n",
      "Column: UnitName\n",
      "['Amengad PS' 'Badami PS' 'Bagalkot CEN Crime PS' ... 'Yadgiri Town PS'\n",
      " 'Yadgiri Traffic PS' 'Yadgiri Women PS']\n",
      "Column: FIRNo\n",
      "['0005/2016' '0006/2016' '0011/2016' ... '0857/2018' '0858/2018'\n",
      " '0861/2018']\n",
      "Column: Year\n",
      "[2016 2017 2018 2019 2020 2021 2022 2023 2024]\n",
      "Column: Month\n",
      "[ 1  2  3  4  5  6  7  8  9 10 11 12]\n",
      "Column: VictimName\n",
      "['BASxxxxxHMI' 'IRSxxxxxWAR' 'GANxxxxxRAD' ... 'KHUxxxxxEEL' 'SMTxxxxxDOR'\n",
      " 'Smtxxxxxpam']\n",
      "Column: age\n",
      "[ 60.  40.  20.  18.  34.  35.  11.  21.  50.  15.  36.  55.  30.  54.\n",
      "  28.  25.  43.  44.  48.  31.  32.  62.  26.  65.  17.  19.  22.  42.\n",
      "  24.  56.  33.  45.  38.  29.  63.  12.  14.  16.  23.  67.  47.  46.\n",
      "  27.  52.  39.  70.  58.  37.  68.  61.  80.  74.  53.  51.  59.  41.\n",
      "  72.  90.  13.  66.  57.  49.  64.  83.  82.  75.  71.  76.  78.  73.\n",
      "  69.  79.  86.  85.  94.  77.  87.  84.  81.  95.  92.  93.  89.  91.\n",
      " 100.  96.  88.  99.  98.  97. -18. -19.]\n",
      "Column: Profession\n",
      "['Housewife ' 'Driver' 'Labourer ' 'Farmer ' 'Student ' 'Businessman '\n",
      " 'Electrician ' 'Bank employee ' 'Central Govt.Employee' 'Broker '\n",
      " 'Weaver ' 'Social Worker' 'Retired Person' 'Bus conductor' 'Teacher '\n",
      " 'Police officer ' 'Law practitioner ' 'Courier ' 'Barber' 'Driver - car '\n",
      " 'Cleaner truck ' 'Govt. official non-gazetted ' 'State Govt.Employee'\n",
      " 'Security guard ' 'Revenue Officer' 'Others PI Specify'\n",
      " 'Public Sector Undertaking' 'Priest' 'Peon ' 'Tailor ' 'Photographer '\n",
      " 'Not Applicable' 'Carpenter ' 'Prostitute ' 'Nurse' 'Driver - truck '\n",
      " 'Contractor ' 'House help - hired ' 'Postal staff ' 'Driver - bus '\n",
      " 'Journalist' 'Accountant ' 'Doctor' 'PDO' 'Engineers ' 'Surveyor '\n",
      " 'Unemployed ' 'Professor' 'Jail staff ' 'Attender' 'Builder '\n",
      " 'Factory worker ' 'Religious person ' 'Govt. official gazetted '\n",
      " 'Salesman ' 'Mechanic ' 'CEO' 'Driver-autorickshaw ' 'Hotel employee '\n",
      " 'Politicians ' 'Lecturer' 'Computer professional ' 'Secretary'\n",
      " 'Financier ' 'Employed in private firms ' 'Company executive '\n",
      " 'Self Employed Others' 'Rtd Judge' 'Painter' 'Media person ' 'Principal'\n",
      " 'Mason ' 'Sports person ' 'Sweeper ' 'Cook' 'Cleaner bus '\n",
      " 'Grampanchayath Officer' 'Literary person ' 'Welder' 'Exporter '\n",
      " 'Technician ' 'Veterinary Doctor' 'Shopkeeper ' 'Fisherman '\n",
      " 'Video exhibitors ' 'Marketing' 'Utility serivceman ' 'Jugglers '\n",
      " 'Cable operators ' 'Home-guard ' 'Nomad ' 'Shop employee '\n",
      " 'Medical practitioner ' 'Watchmen ' 'Dhoby' 'Plumber ' 'Beggar '\n",
      " 'Milkman ' 'Software Engineer' 'Helper' 'Gold smith '\n",
      " 'Para medical staff ' 'Driver - taxi ' 'BUDDHISTS' 'Academician ' 'Nun'\n",
      " 'Vendor ' 'Artist ' 'Elected representatives ' 'Judicial officer '\n",
      " 'Launderer (dhobi) ' 'Real estate dealer ' 'Defence personnel '\n",
      " 'Washerman' 'Corporator' 'Railways staff ' 'Admn Personnel' 'Craftsman '\n",
      " 'Tourist ' 'Artisan ' 'Hawkers ' 'Sanitary worker ' 'Architect ' 'Owner'\n",
      " 'Trader ' 'Industrialist ' 'Entrepreneur' 'Scientist' 'Gardner ' 'Casual'\n",
      " 'Mines employee ' 'RTO Officer' 'Telecom staff ' 'Porter '\n",
      " 'Driver - cart ' 'RTI Activits' 'Airport staff ' 'Pilot ' 'Yoga Teacher'\n",
      " 'Cobbler ' 'Research Scholar' 'Hired killer ' 'Dealer - antique ' 'NGOs'\n",
      " 'Mercenary ' 'Drug trafficker ' 'MADAR' 'Bootlegger ' 'Evangelist'\n",
      " 'Importer ' 'Domestic servant ' 'Foreign Official' 'Relative/friend '\n",
      " 'Cultural Activist' 'Crew ' 'Diplomatic' 'Air lines staff '\n",
      " 'Travelling as co-passenger ' ' POLICE OFFICER                          '\n",
      " 'Smuggler ' 'Vagabond ' 'Gambler ' 'Money lender ' 'Trusty'\n",
      " 'Yoga Student' 'Pimp ' 'Dealer - skin & fur ' 'Delegate' 'Parsi'\n",
      " 'Visual Blower' 'ORWARI' 'LINGAYATH BADIGAR' 'GOLLA' 'LINGAYATH KAMMARA'\n",
      " 'Others' 'HASLA' 'CHRISTIAN' 'Lambani Nayaka' 'HANABARU' 'HANDEVAZIR'\n",
      " 'LAMBAID' 'STANIKA' 'BAJANTHRI' 'ADI KARNATAKA' 'MUSLIM'\n",
      " 'LINGAYATH BHOYI' 'BALIJA' 'FULL MALI' 'BRAHMIN']\n",
      "Column: Sex\n",
      "[2. 1. 3.]\n",
      "Column: PresentAddress\n",
      "['AMBLIKOPPA,TQ-HUNGUND' 'BELAGAVI,TQ-BELAGAVI'\n",
      " 'HIREBADAWADAGI,TQ-HUNAGUND' ...\n",
      " 'R/o Bilahar Village,Tq wadagera dist Yadgiri'\n",
      " 'R/o Thanagundi Village,Now at Mini Vidanasouda yadgiri'\n",
      " 'R/o Bandalli,TQ DIST YADGIR']\n",
      "Column: PresentCity\n",
      "['Bagalkot' 'Hubballi Dharwad City' 'Koppal' 'Vijayapur' 'Raichur'\n",
      " 'Ballari' 'Chitradurga' 'Yadgir' 'Belagavi Dist' 'Unnao' 'Davanagere'\n",
      " 'Tumakuru' 'Gadag' 'Anantapur' 'Dharwad' 'Malda' 'Vijayanagara' 'Sangli'\n",
      " 'Pune city' 'Shivamogga' 'Udupi' 'Jalore' 'Mau' 'Haveri' 'Belagavi City'\n",
      " 'Solapur rural' 'Bengaluru Dist' 'Rewa' 'Chitrakoot' 'Bengaluru City'\n",
      " 'Kalaburagi' 'Thrissur' 'C i d' 'Beed' 'Jalna' 'Khurda' 'Nagpur city'\n",
      " 'Mahaboobnagar' 'Hyderabad city' 'Bidar' 'Mandya' 'Ajmer'\n",
      " 'Thiruvannamalai' 'Khammam' 'Nalgonda' 'Khargone' 'Rewari' 'Gurgaon'\n",
      " 'Mathura' 'Kannauj' 'Aurangabad city' 'Latur' 'Namakkal' 'Kodagu'\n",
      " 'Srikakulam' 'Ramanagara' 'Sultanpur' 'Dholpur' 'Surat rural'\n",
      " 'Sant ravi das nagar' 'Bijnor' 'Haridwar' 'Jalpaiguri' 'Ghazipur'\n",
      " 'Thirunelveli' 'Ahmedabad city' 'Mumbai city' 'Nellore' 'Kottayam'\n",
      " 'Mahrajganj' 'Solapur city' 'Uttara Kannada' 'Kolhapur' 'Saharanpur'\n",
      " 'Pudukkottai' 'Jaunpur' 'Chhindwara' 'Simdega' 'Sundargarh' 'Indore'\n",
      " 'Dewas' 'Kurnool' 'Chittoor' 'Sindhudurg' 'North goa' 'Chandrapur'\n",
      " 'Guntur' 'Bhojpur' 'Kanpur dehat' 'South goa' 'Hyderabad' 'Bhind' 'Salem'\n",
      " 'Firozabad' 'Cuddapah' 'Alwar' 'Navi  mumbai' 'Nasik rural' 'Kheda'\n",
      " 'Barmer' 'Krishnagiri' 'Jhajjar' 'Parbhani' 'Jamui' 'Ahmednagar' 'Kolar'\n",
      " 'Kozhikode city' 'Ernakulam rural' 'Jhalawar' 'Karur' 'Mahbubnagar'\n",
      " 'Panipat' 'Bhilwara' 'Tiruchirapalli' 'Mahendergarh' 'Vellore'\n",
      " 'Cuddalore' 'Chennai' 'Hooghly' 'Mayurbhanj' 'Chandauli' 'Virudhunagar'\n",
      " 'Churu' 'Umariya' 'Balrampur' 'Tonk' 'Nagaur' 'Visakhapatnam' 'Adilabad'\n",
      " 'Villupuram' 'Thirupur' 'Berhampur' 'Bharatpur' 'Karimnagar'\n",
      " 'Godavari east kakinada' 'Betul' 'Osmanabad' 'Dindigul' 'Siwan' 'Satara'\n",
      " 'Dakshina Kannada' 'New delhi' 'Mysuru City' 'Gondia' 'North dist'\n",
      " 'Tarntaran' 'Jabalpur' 'Mysuru Dist' 'Nadia' 'Ariyalur' 'Thoothukudi'\n",
      " 'Ratnagiri' 'Chatra' 'Nasik city' 'Yavatmal' 'Katni' 'Golaghat' 'Rohtas'\n",
      " 'Ranga Reddy' 'Pali' 'Shahjahanpur' 'Durg' 'Nanded' 'Hamirpur' 'Mandsaur'\n",
      " 'Madhepura' 'Sikar' 'Badwani' 'Gopalganj' 'Hassan' 'Jaipur rural'\n",
      " 'Mangaluru City' 'Warangal Rural' 'Medchal Malkajgiri' 'Warangal Urban'\n",
      " 'Prakasham' 'Coimbatore' 'Agra' 'Godavari west' 'Krishna' 'Bijapur'\n",
      " 'Dhanbad' 'Raigad' 'Sidharth nagar' 'Dakshin dinajpur'\n",
      " 'North 24 parganas' 'Sitamarhi' 'Munger' 'Araria' 'Thiruvallur'\n",
      " 'Shravasti' 'Bastar' 'Cooch behar' 'E.champaran/mothihari' 'Burdwan'\n",
      " 'Rangareddy' 'Gorakhpur' 'Wardha' 'Nilgiris' 'Saran (chhapra)'\n",
      " 'Dharmapuri' 'Vijayawada urban' 'Tawang' 'Paschim medinipur'\n",
      " 'Lower dibang valley' 'Calcutta central div.' 'Kadapa' 'Chickballapura'\n",
      " 'Malappuram' 'Kancheepuram' 'Chikkamagaluru' 'Bhabhua' 'Malkangiri'\n",
      " 'Pratapgarh' 'Azamgarh' 'Mirzapur' 'Basti' 'Begusarai' 'Mujaffarpur'\n",
      " 'Bhadradri Kothagudem' 'Kamareddy' 'Akola' 'Katihar' 'Khagaria'\n",
      " 'Kasargode' 'Rajsamand' 'Bokaro' 'Yamuna nagar' 'Buxar' 'Kodarma'\n",
      " 'Gurdaspur' 'Satna' 'Palamau' 'Birbhum' 'Sonbhadra' 'Kushi nagar'\n",
      " 'Thiruvananthapuram city' 'Erode' 'Thane rural' 'Peddapalli' 'Ganjam'\n",
      " 'Meerut' 'Giridih' 'Kanpur city' 'Balaghat' 'Seoni' 'Nagpur rural'\n",
      " 'Hazari bagh' 'Lucknow' 'Suryapet' 'Vizianagaram' 'Murshidabad'\n",
      " 'Bolangir' 'Samastipur' 'Sonitpur' 'Rae bareli' 'Patna' 'Raipur'\n",
      " 'Pithoragarh' 'Aurangabad' 'Ballia' 'Mahabubabad' 'Deoria' 'Gaya'\n",
      " 'Vaishali' 'W.singhbhum/chaibasa' 'Sitapur' 'Sant kabeer nagar' 'Kollam'\n",
      " 'Chamarajanagar' 'Ghaziabad' 'Palakkad' 'Jhabua' 'Gwalior' 'Kanker'\n",
      " 'Jammu' 'Aligarh' 'Pune rural' 'Udaipur' 'North east' 'Guwahati city'\n",
      " 'Grp cuttack' 'Varanasi' 'Hingoli' 'Banaskanta/plnpr' 'Deo prayag'\n",
      " 'Faizabad' 'Sivagangai' 'Etawah' 'Nagaon' 'Chhatarpur' 'Thane city'\n",
      " 'Banka' 'Calcutta south divn.' 'Datia' 'Shivpuri' 'Anti corruption'\n",
      " 'Panchkula' 'Madurai' 'Jorhat' 'Shajapur' 'Jodhpur' 'Bharuch' 'Jhansi'\n",
      " 'Neemuch' 'Hissar' 'Hanumangargh' 'Banda' 'Jagatsinghpur' 'Bhadrak'\n",
      " 'Amritsar' 'Allahabad' 'Faridabad' 'Pondicherry north' 'Fatehpur'\n",
      " 'South 24 parganas' 'Cuttack' 'Kanyakumari' 'Jajpur' 'Alappuzha'\n",
      " 'E.singhbhum/jamshedpur' 'Karnal' 'Godda' 'Jalaun' 'Washim'\n",
      " 'Coastal Security Police' 'Morigaon' 'Buldhana' 'Kalaburagi City'\n",
      " 'Ludhiana' 'Panchmahals' 'Aurangabad rural' 'Dungarpur' 'Amarawati'\n",
      " 'Nizamabad' 'Purba medinipur' 'Raigarh' 'Sirohi' 'K.G.F' 'Jalgaon'\n",
      " 'Tirunelveli city' 'Raisen' 'Gumla' 'Valsad' 'Bhavnagar' 'Jagtial'\n",
      " 'Grp trichy' 'Pondicherry south' 'Kaushambi' 'Rohtak' 'Tripura dhalai'\n",
      " 'Angul' 'Nirmal' 'Darjeeling' 'Saharsa' 'Karbianglong' 'Ferozepur'\n",
      " 'Rajouri' 'Bahraich' 'Chittorgarh' 'Navsari' 'Rajkot city' 'Thanjavur'\n",
      " 'Surat city' 'Bikaner' 'Moradabad' 'Tiruvarur' 'Chandigarh' 'Panna'\n",
      " 'Jashpur' 'Medak' 'Balasore' 'Yadadri' 'Bagaha ( w.champaran/betiah )'\n",
      " 'Jhunjhunu' 'Hardoi' 'Kendrapara' 'Etah' 'Dibrugarh' 'South' 'Bhandara'\n",
      " 'Baghpat' 'Sidhi' 'Coimbatore city' 'Port divn calcutta'\n",
      " 'Thiruvananthapuram rural' 'Mumbai railways' 'Kannur' 'Dhar' 'Faridkot'\n",
      " 'Trichirapalli city' 'Senapati' 'Bhagalpur' 'Out of Country' 'Karimganj'\n",
      " 'Uttar dinajpur' 'Sibsagar' 'Garhwa' 'Imphal west' 'Tripura north'\n",
      " 'Nawarangpur' 'Howrah' 'Kangra' 'Kohima' 'Churachandpur' 'West district'\n",
      " 'Ernakulam city' 'Deogahr' 'Dimapur' 'Cid' 'Calcutta north divn'\n",
      " 'Tripura south' 'CID' 'Cachar' 'Doda' 'Purulia' 'Tripura west'\n",
      " 'Lohardagga' 'Pathanamthitta' 'Dhenkanal' 'Gautam buddha nagar' 'Dhubri'\n",
      " 'Jullundur' 'Dausa' 'Papum pare' 'Kozhikode rural' 'Kheri' 'Aizawl'\n",
      " 'Jaipur city (south)' 'Badaun' 'Harda' 'Thoubal' 'Champawat' 'Darrang'\n",
      " 'Salem city' 'Patiala' 'Dehradun' 'Mandla' 'North west' 'Darbhanga'\n",
      " 'East district' 'Bankura' 'Theni' 'Janjgir' 'Ratlam' 'Madhubani' 'Nawada'\n",
      " 'Siang east' 'Kurung kumay' 'Barabanki' 'Mainpuri' 'Idukki' 'Kishanganj'\n",
      " 'Ramanathapuram' 'Sealdah grp' 'East' 'Hoshiarpur' 'Kharagpur grp'\n",
      " 'Central dist' 'Bulandshahar' 'Phulbani' 'Puri' 'Nagapattinam'\n",
      " 'Hailakandi' 'Sangrur' 'Noida' 'Nalanda' 'Saraikela' 'Latehar'\n",
      " 'Vishakhapatnam rural' 'Barnala' 'Rampur' 'Ujjain' 'Bilaspur'\n",
      " 'Muzaffar nagar' 'Tinsukia' 'Wynad' 'Pilibhit' 'Kalahandi' 'West'\n",
      " 'Cid harijan' 'Kiphire' 'Karaikal' 'Ropar' 'Kamrup' 'Vadodara city'\n",
      " 'Khasi hills east' 'Internet' 'Gajapati' 'Koriya' 'Perambalur'\n",
      " 'Ahmedabad rural' 'Keonjhar' 'Jaipur city (north)' 'Madurai city'\n",
      " 'Chandel' 'Grp secunderabad' 'Zunheboto' 'Ukhrul' 'Champai' 'Tamenglong'\n",
      " 'Sangareddy' 'Ranchi' 'Bongaigaon' 'M l o' 'Goalpara' 'South west'\n",
      " 'Imphal east' 'Kapurthala' 'Majitha' 'Batala' 'Hathras' 'Moga' 'Damoh'\n",
      " 'Nawanshahar' 'Bhatinda' 'Shimla' 'Muktsar' 'Jind' 'Ambala'\n",
      " 'North cachar hills' 'South district' 'Bhopal' 'Bhiwani' 'Jagraon'\n",
      " 'Grp ambala cantt' 'Grp bhopal' 'Mahoba' 'Almora' 'Kurukshetra'\n",
      " 'Fathegarh sahib' 'Palam airport' 'Fatehgarh' 'Warangal' 'Gonda' 'Badgam'\n",
      " 'Karauli' 'Dumka' 'Koraput' 'Nainital' 'Morena' 'Nayagarh'\n",
      " 'Eastern sub divi.cal' 'Kokrajhar' 'Solan' 'Dhemaji' 'Garo hills east'\n",
      " 'Garo hills west' 'Dibang valley' 'Chamba' 'Barpeta' 'Ri-bhoi' 'Korba'\n",
      " 'Siliguri grp' 'Sheopur' 'Tikamgarh' 'N & c.p' 'Rajnand gaon' 'Purnea'\n",
      " 'Kota city' 'Lohit' 'Rayagada' 'Tuensang' 'C.b. jammu'\n",
      " 'Karnataka Railways' 'Nicobar' 'Jehanabad' 'Kutchh/bhuj' 'Nawapara'\n",
      " 'Chengalpattu east' 'Subansiri lower' 'Bishenpur' 'Saiha' 'Jodhpur rural'\n",
      " 'Jangaon' 'Baragarh' 'Wokha' 'Kolasib' 'Vigilance' 'Lakhimpur'\n",
      " 'Dantewada' 'Sahebganj' 'Baramulla' 'Lawngtlai' 'Narsinghpur' 'Bareilly'\n",
      " 'Shahdol' 'Gadchiroli' 'Ambedkar nagar' 'Deogarh' 'Rly dhanbad'\n",
      " 'Rourkela' 'Surendra nagar' 'koda' 'Udham singh nagar' 'State vig bureau'\n",
      " 'Sonepur' 'Khanna' 'Supaul' 'Udhampur' 'Kaithal' 'Jamnagar' 'Mahasamund'\n",
      " 'Jamtara' 'C & r' 'Nandurbar' 'Vadodara rural' 'Vikarabad' 'Rajkot rural'\n",
      " 'Sirsa' 'Porbandar' 'Dahod' 'Gandhinagar' 'Rajanna Sircilla' 'Siddipet'\n",
      " 'Vishakhapatnam urban' 'Dhule' 'Grp chennai' 'Wanaparthy' 'Orraia'\n",
      " 'Nagarkurnool' 'Hoshangabad' 'Nalbari' 'Kawardha' 'Rajgarh' 'Jaisalmer'\n",
      " 'Kathua' 'Surguja' 'Howrah grp' 'Vidisha' 'Jyotibaphulleynagar'\n",
      " 'Sawai madhopur' 'Fatehabad' 'Srinagar' 'Khandwa' 'Sabar kantha'\n",
      " 'ISD Bengaluru' 'Amreli' 'Jharsuguda' 'Ganga nagar' 'Guna' 'Banswara'\n",
      " 'Mehsana' 'Junagadh' 'Grp guntakal' 'Sonipat' 'Dadra ngr haveli'\n",
      " 'Mancherial' 'Lalitpur' 'Sagar' 'Peren' 'Pauri garhwal' 'Tirap'\n",
      " 'Pune railway' 'Anand' 'Diu dist' 'Jayashankar Boopalpally' 'Mahe'\n",
      " 'Jaintia hills' 'Daman dist' 'Dindori' 'Tehri garhwal' 'Jagdalpur'\n",
      " 'Dhamtari' 'Bundi' 'Dc ashok nagar' 'Pulwama' 'Grp gorakhpur' 'Sehore'\n",
      " 'Amarawati city' 'Rly katihar' 'Poonch' 'Uttar kashi' 'Siang west'\n",
      " 'Grp moradabad' 'Sambalpur' 'Khasi hills west' 'Phek' 'Grp vijayawada'\n",
      " 'Sirmaur' 'Baran']\n",
      "Column: PresentState\n",
      "['Karnataka' 'Uttar pradesh' 'Andhra pradesh' 'West bengal' 'Maharashtra'\n",
      " 'Rajasthan' 'Madhya pradesh' 'Kerala' 'Himachal pradesh' 'Orissa'\n",
      " 'Tamilnadu' 'Telangana' 'Haryana' 'Gujarat' 'Uttranchal' 'Jharkhand'\n",
      " 'Goa' 'Bihar' 'Delhi' 'Punjab' 'Assam' 'Chhattisgarh' 'Arunachal pradesh'\n",
      " 'Jammu & kashmir' 'Pondicherry' 'Tripura' 'Chandigarh' 'Manipur'\n",
      " 'Out of Country' 'Nagaland' 'Sikkim' 'Mizoram' 'Meghalaya' 'Internet'\n",
      " 'Andeman & nicobar' 'Dadra & nagar haveli' 'Daman & diu']\n",
      "Column: PermanentCity\n",
      "['Bagalkot' 'Hubballi Dharwad City' 'Koppal' 'Vijayapur' 'Raichur'\n",
      " 'Ballari' 'Chitradurga' 'Yadgir' 'Belagavi Dist' 'Unnao' 'Davanagere'\n",
      " 'Tumakuru' 'Gadag' 'Anantapur' 'Dharwad' 'Malda' 'Vijayanagara' 'Sangli'\n",
      " 'Pune city' 'Shivamogga' 'Udupi' 'Jalore' 'Mau' 'Haveri' 'Belagavi City'\n",
      " 'Solapur rural' 'Bengaluru Dist' 'Rewa' 'Chitrakoot' 'Bengaluru City'\n",
      " 'Kalaburagi' 'Thrissur' 'C i d' 'Beed' 'Jalna' 'Khurda' 'Nagpur city'\n",
      " 'Mahaboobnagar' 'Hyderabad city' 'Bidar' 'Mandya' 'Ajmer'\n",
      " 'Thiruvannamalai' 'Khammam' 'Nalgonda' 'Khargone' 'Rewari' 'Gurgaon'\n",
      " 'Mathura' 'Kannauj' 'Aurangabad city' 'Latur' 'Namakkal' 'Kodagu'\n",
      " 'Srikakulam' 'Ramanagara' 'Sultanpur' 'Dholpur' 'Surat rural'\n",
      " 'Sant ravi das nagar' 'Bijnor' 'Haridwar' 'Jalpaiguri' 'Ghazipur'\n",
      " 'Thirunelveli' 'Ahmedabad city' 'Mumbai city' 'Nellore' 'Kottayam'\n",
      " 'Mahrajganj' 'Solapur city' 'Uttara Kannada' 'Kolhapur' 'Saharanpur'\n",
      " 'Pudukkottai' 'Jaunpur' 'Chhindwara' 'Simdega' 'Sundargarh' 'Indore'\n",
      " 'Dewas' 'Kurnool' 'Chittoor' 'Sindhudurg' 'North goa' 'Chandrapur'\n",
      " 'Guntur' 'Bhojpur' 'Kanpur dehat' 'South goa' 'Hyderabad' 'Bhind' 'Salem'\n",
      " 'Firozabad' 'Cuddapah' 'Alwar' 'Navi  mumbai' 'Nasik rural' 'Kheda'\n",
      " 'Barmer' 'Krishnagiri' 'Jhajjar' 'Parbhani' 'Jamui' 'Ahmednagar' 'Kolar'\n",
      " 'Kozhikode city' 'Ernakulam rural' 'Jhalawar' 'Karur' 'Mahbubnagar'\n",
      " 'Panipat' 'Bhilwara' 'Tiruchirapalli' 'Mahendergarh' 'Vellore'\n",
      " 'Cuddalore' 'Chennai' 'Hooghly' 'Mayurbhanj' 'Chandauli' 'Virudhunagar'\n",
      " 'Churu' 'Umariya' 'Balrampur' 'Tonk' 'Nagaur' 'Visakhapatnam' 'Adilabad'\n",
      " 'Villupuram' 'Thirupur' 'Berhampur' 'Bharatpur' 'Karimnagar'\n",
      " 'Godavari east kakinada' 'Betul' 'Osmanabad' 'Dindigul' 'Siwan' 'Satara'\n",
      " 'Dakshina Kannada' 'New delhi' 'Mysuru City' 'Gondia' 'North dist'\n",
      " 'Tarntaran' 'Jabalpur' 'Mysuru Dist' 'Nadia' 'Ariyalur' 'Thoothukudi'\n",
      " 'Ratnagiri' 'Chatra' 'Nasik city' 'Yavatmal' 'Katni' 'Golaghat' 'Rohtas'\n",
      " 'Ranga Reddy' 'Pali' 'Shahjahanpur' 'Durg' 'Nanded' 'Hamirpur' 'Mandsaur'\n",
      " 'Madhepura' 'Sikar' 'Badwani' 'Gopalganj' 'Hassan' 'Jaipur rural'\n",
      " 'Mangaluru City' 'Warangal Rural' 'Medchal Malkajgiri' 'Warangal Urban'\n",
      " 'Prakasham' 'Coimbatore' 'Agra' 'Godavari west' 'Krishna' 'Bijapur'\n",
      " 'Dhanbad' 'Raigad' 'Sidharth nagar' 'Dakshin dinajpur'\n",
      " 'North 24 parganas' 'Sitamarhi' 'Munger' 'Araria' 'Thiruvallur'\n",
      " 'Shravasti' 'Bastar' 'Cooch behar' 'E.champaran/mothihari' 'Burdwan'\n",
      " 'Rangareddy' 'Gorakhpur' 'Wardha' 'Nilgiris' 'Saran (chhapra)'\n",
      " 'Dharmapuri' 'Vijayawada urban' 'Tawang' 'Paschim medinipur'\n",
      " 'Lower dibang valley' 'Calcutta central div.' 'Kadapa' 'Chickballapura'\n",
      " 'Malappuram' 'Kancheepuram' 'Chikkamagaluru' 'Bhabhua' 'Malkangiri'\n",
      " 'Pratapgarh' 'Azamgarh' 'Mirzapur' 'Basti' 'Begusarai' 'Mujaffarpur'\n",
      " 'Bhadradri Kothagudem' 'Kamareddy' 'Akola' 'Katihar' 'Khagaria'\n",
      " 'Kasargode' 'Rajsamand' 'Bokaro' 'Yamuna nagar' 'Buxar' 'Kodarma'\n",
      " 'Gurdaspur' 'Satna' 'Palamau' 'Birbhum' 'Sonbhadra' 'Kushi nagar'\n",
      " 'Thiruvananthapuram city' 'Erode' 'Thane rural' 'Peddapalli' 'Ganjam'\n",
      " 'Meerut' 'Giridih' 'Kanpur city' 'Balaghat' 'Seoni' 'Nagpur rural'\n",
      " 'Hazari bagh' 'Lucknow' 'Suryapet' 'Vizianagaram' 'Murshidabad'\n",
      " 'Bolangir' 'Samastipur' 'Sonitpur' 'Rae bareli' 'Patna' 'Raipur'\n",
      " 'Pithoragarh' 'Aurangabad' 'Ballia' 'Mahabubabad' 'Deoria' 'Gaya'\n",
      " 'Vaishali' 'W.singhbhum/chaibasa' 'Sitapur' 'Sant kabeer nagar' 'Kollam'\n",
      " 'Chamarajanagar' 'Ghaziabad' 'Palakkad' 'Jhabua' 'Gwalior' 'Kanker'\n",
      " 'Jammu' 'Aligarh' 'Pune rural' 'Udaipur' 'North east' 'Guwahati city'\n",
      " 'Grp cuttack' 'Varanasi' 'Hingoli' 'Banaskanta/plnpr' 'Deo prayag'\n",
      " 'Faizabad' 'Sivagangai' 'Etawah' 'Nagaon' 'Chhatarpur' 'Thane city'\n",
      " 'Banka' 'Calcutta south divn.' 'Datia' 'Shivpuri' 'Anti corruption'\n",
      " 'Panchkula' 'Madurai' 'Jorhat' 'Shajapur' 'Jodhpur' 'Bharuch' 'Jhansi'\n",
      " 'Neemuch' 'Hissar' 'Hanumangargh' 'Banda' 'Jagatsinghpur' 'Bhadrak'\n",
      " 'Amritsar' 'Allahabad' 'Faridabad' 'Pondicherry north' 'Fatehpur'\n",
      " 'South 24 parganas' 'Cuttack' 'Kanyakumari' 'Jajpur' 'Alappuzha'\n",
      " 'E.singhbhum/jamshedpur' 'Karnal' 'Godda' 'Jalaun' 'Washim'\n",
      " 'Coastal Security Police' 'Morigaon' 'Buldhana' 'Kalaburagi City'\n",
      " 'Ludhiana' 'Panchmahals' 'Aurangabad rural' 'Dungarpur' 'Amarawati'\n",
      " 'Nizamabad' 'Purba medinipur' 'Raigarh' 'Sirohi' 'K.G.F' 'Jalgaon'\n",
      " 'Tirunelveli city' 'Raisen' 'Gumla' 'Valsad' 'Bhavnagar' 'Jagtial'\n",
      " 'Grp trichy' 'Pondicherry south' 'Kaushambi' 'Rohtak' 'Tripura dhalai'\n",
      " 'Angul' 'Nirmal' 'Darjeeling' 'Saharsa' 'Karbianglong' 'Ferozepur'\n",
      " 'Rajouri' 'Bahraich' 'Chittorgarh' 'Navsari' 'Rajkot city' 'Thanjavur'\n",
      " 'Surat city' 'Bikaner' 'Moradabad' 'Tiruvarur' 'Chandigarh' 'Panna'\n",
      " 'Jashpur' 'Medak' 'Balasore' 'Yadadri' 'Bagaha ( w.champaran/betiah )'\n",
      " 'Jhunjhunu' 'Hardoi' 'Kendrapara' 'Etah' 'Dibrugarh' 'South' 'Bhandara'\n",
      " 'Baghpat' 'Sidhi' 'Coimbatore city' 'Port divn calcutta'\n",
      " 'Thiruvananthapuram rural' 'Mumbai railways' 'Kannur' 'Dhar' 'Faridkot'\n",
      " 'Trichirapalli city' 'Senapati' 'Bhagalpur' 'Out of Country' 'Karimganj'\n",
      " 'Uttar dinajpur' 'Sibsagar' 'Garhwa' 'Imphal west' 'Tripura north'\n",
      " 'Nawarangpur' 'Howrah' 'Kangra' 'Kohima' 'Churachandpur' 'West district'\n",
      " 'Ernakulam city' 'Deogahr' 'Dimapur' 'Cid' 'Calcutta north divn'\n",
      " 'Tripura south' 'CID' 'Cachar' 'Doda' 'Purulia' 'Tripura west'\n",
      " 'Lohardagga' 'Pathanamthitta' 'Dhenkanal' 'Gautam buddha nagar' 'Dhubri'\n",
      " 'Jullundur' 'Dausa' 'Papum pare' 'Kozhikode rural' 'Kheri' 'Aizawl'\n",
      " 'Jaipur city (south)' 'Badaun' 'Harda' 'Thoubal' 'Champawat' 'Darrang'\n",
      " 'Salem city' 'Patiala' 'Dehradun' 'Mandla' 'North west' 'Darbhanga'\n",
      " 'East district' 'Bankura' 'Theni' 'Janjgir' 'Ratlam' 'Madhubani' 'Nawada'\n",
      " 'Siang east' 'Kurung kumay' 'Barabanki' 'Mainpuri' 'Idukki' 'Kishanganj'\n",
      " 'Ramanathapuram' 'Sealdah grp' 'East' 'Hoshiarpur' 'Kharagpur grp'\n",
      " 'Central dist' 'Bulandshahar' 'Phulbani' 'Puri' 'Nagapattinam'\n",
      " 'Hailakandi' 'Sangrur' 'Noida' 'Nalanda' 'Saraikela' 'Latehar'\n",
      " 'Vishakhapatnam rural' 'Barnala' 'Rampur' 'Ujjain' 'Bilaspur'\n",
      " 'Muzaffar nagar' 'Tinsukia' 'Wynad' 'Pilibhit' 'Kalahandi' 'West'\n",
      " 'Cid harijan' 'Kiphire' 'Karaikal' 'Ropar' 'Kamrup' 'Vadodara city'\n",
      " 'Khasi hills east' 'Internet' 'Gajapati' 'Koriya' 'Perambalur'\n",
      " 'Ahmedabad rural' 'Keonjhar' 'Jaipur city (north)' 'Madurai city'\n",
      " 'Chandel' 'Grp secunderabad' 'Zunheboto' 'Ukhrul' 'Champai' 'Tamenglong'\n",
      " 'Sangareddy' 'Ranchi' 'Bongaigaon' 'M l o' 'Goalpara' 'South west'\n",
      " 'Imphal east' 'Kapurthala' 'Majitha' 'Batala' 'Hathras' 'Moga' 'Damoh'\n",
      " 'Nawanshahar' 'Bhatinda' 'Shimla' 'Muktsar' 'Jind' 'Ambala'\n",
      " 'North cachar hills' 'South district' 'Bhopal' 'Bhiwani' 'Jagraon'\n",
      " 'Grp ambala cantt' 'Grp bhopal' 'Mahoba' 'Almora' 'Kurukshetra'\n",
      " 'Fathegarh sahib' 'Palam airport' 'Fatehgarh' 'Warangal' 'Gonda' 'Badgam'\n",
      " 'Karauli' 'Dumka' 'Koraput' 'Nainital' 'Morena' 'Nayagarh'\n",
      " 'Eastern sub divi.cal' 'Kokrajhar' 'Solan' 'Dhemaji' 'Garo hills east'\n",
      " 'Garo hills west' 'Dibang valley' 'Chamba' 'Barpeta' 'Ri-bhoi' 'Korba'\n",
      " 'Siliguri grp' 'Sheopur' 'Tikamgarh' 'N & c.p' 'Rajnand gaon' 'Purnea'\n",
      " 'Kota city' 'Lohit' 'Rayagada' 'Tuensang' 'C.b. jammu'\n",
      " 'Karnataka Railways' 'Nicobar' 'Jehanabad' 'Kutchh/bhuj' 'Nawapara'\n",
      " 'Chengalpattu east' 'Subansiri lower' 'Bishenpur' 'Saiha' 'Jodhpur rural'\n",
      " 'Jangaon' 'Baragarh' 'Wokha' 'Kolasib' 'Vigilance' 'Lakhimpur'\n",
      " 'Dantewada' 'Sahebganj' 'Baramulla' 'Lawngtlai' 'Narsinghpur' 'Bareilly'\n",
      " 'Shahdol' 'Gadchiroli' 'Ambedkar nagar' 'Deogarh' 'Rly dhanbad'\n",
      " 'Rourkela' 'Surendra nagar' 'koda' 'Udham singh nagar' 'State vig bureau'\n",
      " 'Sonepur' 'Khanna' 'Supaul' 'Udhampur' 'Kaithal' 'Jamnagar' 'Mahasamund'\n",
      " 'Jamtara' 'C & r' 'Nandurbar' 'Vadodara rural' 'Vikarabad' 'Rajkot rural'\n",
      " 'Sirsa' 'Porbandar' 'Dahod' 'Gandhinagar' 'Rajanna Sircilla' 'Siddipet'\n",
      " 'Vishakhapatnam urban' 'Dhule' 'Grp chennai' 'Wanaparthy' 'Orraia'\n",
      " 'Nagarkurnool' 'Hoshangabad' 'Nalbari' 'Kawardha' 'Rajgarh' 'Jaisalmer'\n",
      " 'Kathua' 'Surguja' 'Howrah grp' 'Vidisha' 'Jyotibaphulleynagar'\n",
      " 'Sawai madhopur' 'Fatehabad' 'Srinagar' 'Khandwa' 'Sabar kantha'\n",
      " 'ISD Bengaluru' 'Amreli' 'Jharsuguda' 'Ganga nagar' 'Guna' 'Banswara'\n",
      " 'Mehsana' 'Junagadh' 'Grp guntakal' 'Sonipat' 'Dadra ngr haveli'\n",
      " 'Mancherial' 'Lalitpur' 'Sagar' 'Peren' 'Pauri garhwal' 'Tirap'\n",
      " 'Pune railway' 'Anand' 'Diu dist' 'Jayashankar Boopalpally' 'Mahe'\n",
      " 'Jaintia hills' 'Daman dist' 'Dindori' 'Tehri garhwal' 'Jagdalpur'\n",
      " 'Dhamtari' 'Bundi' 'Dc ashok nagar' 'Pulwama' 'Grp gorakhpur' 'Sehore'\n",
      " 'Amarawati city' 'Rly katihar' 'Poonch' 'Uttar kashi' 'Siang west'\n",
      " 'Grp moradabad' 'Sambalpur' 'Khasi hills west' 'Phek' 'Grp vijayawada'\n",
      " 'Sirmaur' 'Baran']\n",
      "Column: PermanentState\n",
      "['Karnataka' 'Uttar pradesh' 'Andhra pradesh' 'West bengal' 'Maharashtra'\n",
      " 'Rajasthan' 'Madhya pradesh' 'Kerala' 'Himachal pradesh' 'Orissa'\n",
      " 'Tamilnadu' 'Telangana' 'Haryana' 'Gujarat' 'Uttranchal' 'Jharkhand'\n",
      " 'Goa' 'Bihar' 'Delhi' 'Punjab' 'Assam' 'Chhattisgarh' 'Arunachal pradesh'\n",
      " 'Jammu & kashmir' 'Pondicherry' 'Tripura' 'Chandigarh' 'Manipur'\n",
      " 'Out of Country' 'Nagaland' 'Sikkim' 'Mizoram' 'Meghalaya' 'Internet'\n",
      " 'Andeman & nicobar' 'Dadra & nagar haveli' 'Daman & diu']\n",
      "Column: Nationality_Name\n",
      "['India' 'Iraq' 'Indonesia' 'Oman' 'Liberia' 'Gabon' 'Namibia' 'Iran'\n",
      " 'Haiti' 'Macedonia' 'Bangladesh' 'Nepal' 'Netherlands' 'Taiwan' 'Iceland'\n",
      " 'Sudan' 'Myanmar' 'Korea' 'United States of America (USA)' 'Nigeria'\n",
      " 'Yeman' 'Pakistan' 'Congo' 'Uzbekistan' 'United Arab Emirates (UAE)'\n",
      " 'Algeria' 'Kenya' 'Uganda' 'France' 'Malaysia' 'Australia' 'Israel'\n",
      " 'Italy' 'Sweden' 'Russian Federation' 'Germany' 'Qatar' 'Syria'\n",
      " 'South Africa' 'Comoros' 'Tibet' 'Cameroon' 'Mali' 'Zimbabwe' 'Thailand'\n",
      " 'Morocco' 'Muscat' 'Belgium' 'Afganistan' 'United Kingdom (UK)'\n",
      " 'Singapore' 'Brazil' 'Japan' 'Maldives' 'Lestho' 'Ivoirienne'\n",
      " 'Ireland (Eire)' 'Chad' 'Hongkong' 'Kazakhistan' 'Mexico' 'Guine'\n",
      " 'England' 'Portugal' 'San marino' 'Mauritania' 'Jamaica' 'Poland'\n",
      " 'Falkland Islands' 'Hellenique' 'Mauritius' 'Philippines' 'Canada'\n",
      " 'China' 'Tunisia' 'Belorussia' 'Armenia' 'Saudi Arabia' 'Tanzania'\n",
      " 'Somalia' 'Denmark' 'Hungary' 'Libya' 'Chile' 'Zaire']\n",
      "Column: PersonType\n",
      "['Deceased' 'Injured' 'Others' 'Missing' 'Kidnapped' 'complainnant' 'Rape'\n",
      " 'Unidentified Person' 'Arrest' 'Unidentified Dead Body' 'Surrender']\n",
      "Column: InjuryType\n",
      "[2. 3. 1. 4. 5.]\n",
      "Column: Crime_No\n",
      "[10470124520160005 10470124520160006 10470124520160011 ...\n",
      " 10978218320240004 10978218320240005 10978218320240006]\n",
      "Column: Arr_ID\n",
      "[2016000019 2016000021 2016000044 ... 2020002477 2020002479 2020002491]\n",
      "Column: Victim_ID\n",
      "[2016000007 2016000008 2016000010 ... 2016000583 2016000613 2016000619]\n",
      "District_Name       0\n",
      "UnitName            0\n",
      "FIRNo               0\n",
      "Year                0\n",
      "Month               0\n",
      "VictimName          0\n",
      "age                 0\n",
      "Profession          0\n",
      "Sex                 0\n",
      "PresentAddress      0\n",
      "PresentCity         0\n",
      "PresentState        0\n",
      "PermanentCity       0\n",
      "PermanentState      0\n",
      "Nationality_Name    0\n",
      "PersonType          0\n",
      "InjuryType          0\n",
      "Crime_No            0\n",
      "Arr_ID              0\n",
      "Victim_ID           0\n",
      "dtype: int64\n"
     ]
    }
   ],
   "source": [
    "for col in df.columns:\n",
    "    print(f'Column: {col}')\n",
    "    print(df[col].unique())\n",
    "\n",
    "# Check for missing values\n",
    "print(df.isnull().sum())"
   ]
  },
  {
   "cell_type": "code",
   "execution_count": 6,
   "id": "c48c4378-c6f5-4341-a148-f8a8a8a482d3",
   "metadata": {},
   "outputs": [],
   "source": [
    "import pandas as pd\n",
    "from sklearn.preprocessing import LabelEncoder"
   ]
  },
  {
   "cell_type": "code",
   "execution_count": 7,
   "id": "9c7e850f-e9a7-45d9-9106-ffabebb2e25f",
   "metadata": {},
   "outputs": [],
   "source": [
    "cat_cols = ['District_Name', 'UnitName', 'FIRNo', 'VictimName', 'Profession', 'PresentAddress', \n",
    "            'PresentCity', 'PresentState', 'PermanentCity', 'PermanentState', 'Nationality_Name', \n",
    "            'PersonType']"
   ]
  },
  {
   "cell_type": "code",
   "execution_count": 8,
   "id": "55d62848-29e1-4297-b2fd-5df37f42685f",
   "metadata": {},
   "outputs": [],
   "source": [
    "label_encoders = {}\n",
    "for col in cat_cols:\n",
    "    le = LabelEncoder()\n",
    "    df[col] = le.fit_transform(df[col])\n",
    "    label_encoders[col] = le"
   ]
  },
  {
   "cell_type": "code",
   "execution_count": 9,
   "id": "ecd97a64-4363-4a92-9de7-dfca70f8ebbb",
   "metadata": {},
   "outputs": [],
   "source": [
    "num_cols = ['age', 'Sex', 'InjuryType']\n",
    "for col in num_cols:\n",
    "    df[col].fillna(df[col].median(), inplace=True)"
   ]
  },
  {
   "cell_type": "code",
   "execution_count": 10,
   "id": "a72998b9-8191-4b03-b9b6-3da665d2c8df",
   "metadata": {},
   "outputs": [
    {
     "name": "stdout",
     "output_type": "stream",
     "text": [
      "Remaining missing values:\n",
      " Series([], dtype: int64)\n"
     ]
    }
   ],
   "source": [
    "missing_values = df.isnull().sum()\n",
    "print(\"Remaining missing values:\\n\", missing_values[missing_values > 0])"
   ]
  },
  {
   "cell_type": "code",
   "execution_count": 11,
   "id": "ecac6302-6d44-4248-9779-353752f6eab8",
   "metadata": {},
   "outputs": [
    {
     "name": "stdout",
     "output_type": "stream",
     "text": [
      "Number of duplicate rows: 1\n"
     ]
    }
   ],
   "source": [
    "duplicates = df.duplicated()\n",
    "print(\"Number of duplicate rows:\", duplicates.sum())\n"
   ]
  },
  {
   "cell_type": "code",
   "execution_count": 12,
   "id": "6c1b42d7-ad96-4589-a8b7-d542638ff769",
   "metadata": {},
   "outputs": [
    {
     "data": {
      "image/png": "[encoded data removed]",
      "text/plain": [
       "<Figure size 640x480 with 1 Axes>"
      ]
     },
     "metadata": {},
     "output_type": "display_data"
    }
   ],
   "source": [
    "numerical_cols = df.select_dtypes(include=['float64', 'int64']).columns\n",
    "for col in numerical_cols:\n",
    "    # Use box plot or other methods to identify outliers\n",
    "    # For example, using box plot\n",
    "    df.boxplot(column=col)\n"
   ]
  },
  {
   "cell_type": "code",
   "execution_count": 13,
   "id": "c0a7a73f-d6c7-406c-99cd-80e2f4175fe6",
   "metadata": {},
   "outputs": [
    {
     "data": {
      "image/png": "[encoded data removed]",
      "text/plain": [
       "<Figure size 1000x600 with 1 Axes>"
      ]
     },
     "metadata": {},
     "output_type": "display_data"
    },
    {
     "data": {
      "image/png": "[encoded data removed]",
      "text/plain": [
       "<Figure size 1000x600 with 1 Axes>"
      ]
     },
     "metadata": {},
     "output_type": "display_data"
    },
    {
     "data": {
      "image/png": "[encoded data removed]",
      "text/plain": [
       "<Figure size 1000x600 with 1 Axes>"
      ]
     },
     "metadata": {},
     "output_type": "display_data"
    },
    {
     "data": {
      "image/png": "[encoded data removed]",
      "text/plain": [
       "<Figure size 1000x600 with 1 Axes>"
      ]
     },
     "metadata": {},
     "output_type": "display_data"
    },
    {
     "data": {
      "image/png": "[encoded data removed]",
      "text/plain": [
       "<Figure size 1000x600 with 1 Axes>"
      ]
     },
     "metadata": {},
     "output_type": "display_data"
    }
   ],
   "source": [
    "import seaborn as sns\n",
    "import matplotlib.pyplot as plt\n",
    "\n",
    "numerical_cols = ['Year', 'Month', 'age', 'Sex', 'InjuryType']\n",
    "for col in numerical_cols:\n",
    "    plt.figure(figsize=(10, 6))\n",
    "    sns.boxplot(x=df[col])\n",
    "    plt.title(f'Boxplot of {col}')\n",
    "    plt.show()\n"
   ]
  },
  {
   "cell_type": "code",
   "execution_count": 14,
   "id": "024b3141-7557-4775-b6e1-df456dd3bced",
   "metadata": {},
   "outputs": [
    {
     "name": "stdout",
     "output_type": "stream",
     "text": [
      "Rows with outliers: Empty DataFrame\n",
      "Columns: [District_Name, UnitName, FIRNo, Year, Month, VictimName, age, Profession, Sex, PresentAddress, PresentCity, PresentState, PermanentCity, PermanentState, Nationality_Name, PersonType, InjuryType, Crime_No, Arr_ID, Victim_ID]\n",
      "Index: []\n"
     ]
    }
   ],
   "source": [
    "from scipy import stats\n",
    "\n",
    "z_scores = stats.zscore(df[numerical_cols])\n",
    "abs_z_scores = np.abs(z_scores)\n",
    "outliers = (abs_z_scores > 3).all(axis=1)\n",
    "print(\"Rows with outliers:\", df[outliers])\n"
   ]
  },
  {
   "cell_type": "code",
   "execution_count": 15,
   "id": "93d006a8-f41f-4dbd-90d2-8a5ca6d85019",
   "metadata": {},
   "outputs": [
    {
     "name": "stdout",
     "output_type": "stream",
     "text": [
      "Rows with outliers:          District_Name  UnitName  FIRNo  Year  Month  VictimName   age  \\\n",
      "294                  0        25   1694  2018     12       68184  80.0   \n",
      "401                  0        25    660  2019     10      114598  90.0   \n",
      "686                  0        25   1238  2021     11       34366  83.0   \n",
      "699                  0        25   1373  2021     12        1782  82.0   \n",
      "1389                 0        57   2018  2018     10      199184  76.0   \n",
      "...                ...       ...    ...   ...    ...         ...   ...   \n",
      "1254384             39      1024    304  2023     10      257101  23.0   \n",
      "1254389             39      1024    349  2023     11      256681  26.0   \n",
      "1254392             39      1024    376  2023     11      257521  31.0   \n",
      "1254397             39      1024     35  2024      2      257135  29.0   \n",
      "1254398             39      1024     44  2024      2      263198  29.0   \n",
      "\n",
      "         Profession  Sex  PresentAddress  PresentCity  PresentState  \\\n",
      "294              66  1.0          216965           33            17   \n",
      "401              66  1.0          300927           33            17   \n",
      "686              66  1.0           64117           33            17   \n",
      "699              97  1.0          341948           33            17   \n",
      "1389            148  1.0          163330           33            17   \n",
      "...             ...  ...             ...          ...           ...   \n",
      "1254384          86  2.0          760801          676            17   \n",
      "1254389          86  2.0          730957          300            17   \n",
      "1254392         118  2.0          762231          676            17   \n",
      "1254397         169  2.0          751346          676            17   \n",
      "1254398          85  2.0          766374          676            17   \n",
      "\n",
      "         PermanentCity  PermanentState  Nationality_Name  PersonType  \\\n",
      "294                 33              17                27           2   \n",
      "401                 33              17                27           4   \n",
      "686                 33              17                27           2   \n",
      "699                 33              17                27           2   \n",
      "1389                33              17                27           2   \n",
      "...                ...             ...               ...         ...   \n",
      "1254384            676              17                27          10   \n",
      "1254389            300              17                27          10   \n",
      "1254392            676              17                27          10   \n",
      "1254397            676              17                27          10   \n",
      "1254398            676              17                27          10   \n",
      "\n",
      "         InjuryType           Crime_No      Arr_ID   Victim_ID  \n",
      "294             3.0  10470124520180189  2018000913  2018000107  \n",
      "401             2.0  10470124520190074  2019000649  2019000130  \n",
      "686             1.0  10470124520210138  2021000788  2021000159  \n",
      "699             3.0  10470124520210153  2021000882  2021000176  \n",
      "1389            2.0  10470124620180225  2018000824  2018000181  \n",
      "...             ...                ...         ...         ...  \n",
      "1254384         5.0  10978218320230034  2023000164  2023000037  \n",
      "1254389         5.0  10978218320230039  2023000188  2023000043  \n",
      "1254392         5.0  10978218320230042  2023000200  2023000046  \n",
      "1254397         5.0  10978218320240004  2024000009  2024000004  \n",
      "1254398         5.0  10978218320240005  2024000012  2024000005  \n",
      "\n",
      "[10659 rows x 20 columns]\n"
     ]
    }
   ],
   "source": [
    "Q1 = df[numerical_cols].quantile(0.25)\n",
    "Q3 = df[numerical_cols].quantile(0.75)\n",
    "IQR = Q3 - Q1\n",
    "outliers = ((df[numerical_cols] < (Q1 - 1.5 * IQR)) | (df[numerical_cols] > (Q3 + 1.5 * IQR))).any(axis=1)\n",
    "print(\"Rows with outliers:\", df[outliers])\n"
   ]
  },
  {
   "cell_type": "code",
   "execution_count": 16,
   "id": "ddf9d897-490c-49f0-97ed-19ff8e200d00",
   "metadata": {},
   "outputs": [],
   "source": [
    "from sklearn.model_selection import train_test_split\n",
    "from sklearn.ensemble import RandomForestClassifier\n",
    "from sklearn.metrics import accuracy_score"
   ]
  },
  {
   "cell_type": "code",
   "execution_count": 17,
   "id": "5f0a1b0d-06bf-42f3-a3ba-b3c62910a907",
   "metadata": {},
   "outputs": [],
   "source": [
    "columns_with_outliers = ['age']"
   ]
  },
  {
   "cell_type": "code",
   "execution_count": 18,
   "id": "a08b5280-b157-4cf6-93ac-21abf8556dd1",
   "metadata": {},
   "outputs": [],
   "source": [
    "for col in columns_with_outliers:\n",
    "    q1 = df[col].quantile(0.25)\n",
    "    q3 = df[col].quantile(0.75)\n",
    "    iqr = q3 - q1\n",
    "    lower_bound = q1 - 1.5 * iqr\n",
    "    upper_bound = q3 + 1.5 * iqr\n",
    "    df = df[(df[col] >= lower_bound) & (df[col] <= upper_bound)]"
   ]
  },
  {
   "cell_type": "code",
   "execution_count": 19,
   "id": "e08a7952-782d-483f-bd94-6dac6c2fe759",
   "metadata": {},
   "outputs": [],
   "source": [
    "from sklearn.model_selection import train_test_split\n",
    "from sklearn.ensemble import RandomForestClassifier\n",
    "from sklearn.metrics import accuracy_score\n",
    "import numpy as np\n"
   ]
  },
  {
   "cell_type": "code",
   "execution_count": 20,
   "id": "00207137-f997-4bc6-99e4-54c5abc39f0f",
   "metadata": {},
   "outputs": [
    {
     "name": "stdout",
     "output_type": "stream",
     "text": [
      "Memory usage of dataframe: 66.50 MB (53.3% reduction)\n"
     ]
    }
   ],
   "source": [
    "import pandas as pd\n",
    "\n",
    "# Read a small sample of your dataset to analyze memory usage of each column\n",
    "# Replace 'your_dataset.csv' with the path to your dataset\n",
    "df_sample = pd.read_csv('preprocessed_df4.csv', nrows=100000)\n",
    "\n",
    "# Function to reduce memory usage of DataFrame\n",
    "def reduce_mem_usage(df):\n",
    "    \"\"\"Reduce memory usage of a DataFrame by converting data types.\"\"\"\n",
    "    start_mem = df.memory_usage().sum() / 1024**2\n",
    "\n",
    "    for col in df.columns:\n",
    "        col_type = df[col].dtype\n",
    "\n",
    "        if col_type != object:\n",
    "            c_min = df[col].min()\n",
    "            c_max = df[col].max()\n",
    "\n",
    "            if str(col_type)[:3] == 'int':\n",
    "                if c_min > np.iinfo(np.int8).min and c_max < np.iinfo(np.int8).max:\n",
    "                    df[col] = df[col].astype(np.int8)\n",
    "                elif c_min > np.iinfo(np.int16).min and c_max < np.iinfo(np.int16).max:\n",
    "                    df[col] = df[col].astype(np.int16)\n",
    "                elif c_min > np.iinfo(np.int32).min and c_max < np.iinfo(np.int32).max:\n",
    "                    df[col] = df[col].astype(np.int32)\n",
    "                elif c_min > np.iinfo(np.int64).min and c_max < np.iinfo(np.int64).max:\n",
    "                    df[col] = df[col].astype(np.int64)\n",
    "            else:\n",
    "                if c_min > np.finfo(np.float16).min and c_max < np.finfo(np.float16).max:\n",
    "                    df[col] = df[col].astype(np.float16)\n",
    "                elif c_min > np.finfo(np.float32).min and c_max < np.finfo(np.float32).max:\n",
    "                    df[col] = df[col].astype(np.float32)\n",
    "                else:\n",
    "                    df[col] = df[col].astype(np.float64)\n",
    "        else:\n",
    "            df[col] = df[col].astype('category')\n",
    "\n",
    "    end_mem = df.memory_usage().sum() / 1024**2\n",
    "    print(f'Memory usage of dataframe: {end_mem:.2f} MB ({100 * (start_mem - end_mem) / start_mem:.1f}% reduction)')\n",
    "    return df\n",
    "\n",
    "# Apply reduce_mem_usage to your full dataset\n",
    "df_optimized = reduce_mem_usage(df)\n",
    "\n",
    "# Use df_optimized for further analysis and modeling\n"
   ]
  },
  {
   "cell_type": "markdown",
   "id": "cb84983f-42f4-41d6-88d5-e4f7b2c52021",
   "metadata": {},
   "source": [
    "numerical_cols = df.select_dtypes(include=['float64']).columns\n",
    "df[numerical_cols] = df[numerical_cols].astype('float32')"
   ]
  },
  {
   "cell_type": "markdown",
   "id": "90bab888-bb4a-45b7-814e-217db653c56f",
   "metadata": {},
   "source": [
    "\n",
    "categorical_cols = df.select_dtypes(include=['object']).columns\n",
    "df[categorical_cols] = df[categorical_cols].astype('category')"
   ]
  },
  {
   "cell_type": "markdown",
   "id": "eca8b332-fcac-47a5-ac7a-6303db94bd17",
   "metadata": {},
   "source": [
    "sample_frac = 0.01  # Adjust the fraction as needed\n",
    "df_sampled = df.sample(frac=sample_frac, random_state=42)\n"
   ]
  },
  {
   "cell_type": "markdown",
   "id": "96bc71f8-2b70-45d8-accd-27da897d4eae",
   "metadata": {},
   "source": [
    "X = df_sampled.drop('Crime_No', axis=1)  # Assuming 'Crime_No' is your target variable\n",
    "y = df_sampled['Crime_No']\n",
    "X_train, X_test, y_train, y_test = train_test_split(X, y, test_size=0.2, random_state=42)\n"
   ]
  },
  {
   "cell_type": "markdown",
   "id": "04ec78a6-b99f-4e56-a738-bda9d1344cc4",
   "metadata": {},
   "source": [
    "rf_classifier = RandomForestClassifier()\n",
    "rf_classifier.fit(X_train, y_train)"
   ]
  },
  {
   "cell_type": "code",
   "execution_count": 21,
   "id": "71b4a9d1-bed0-45c4-9f0b-7a653149c5c3",
   "metadata": {},
   "outputs": [],
   "source": [
    "from sklearn.preprocessing import OneHotEncoder\n",
    "\n"
   ]
  },
  {
   "cell_type": "code",
   "execution_count": 22,
   "id": "e480d316-91d7-4dd1-bdf4-352e2a3b1582",
   "metadata": {},
   "outputs": [
    {
     "name": "stdout",
     "output_type": "stream",
     "text": [
      "Requirement already satisfied: category-encoders in c:\\users\\hp\\downloads\\anaconda2023\\lib\\site-packages (2.6.3)\n",
      "Requirement already satisfied: numpy>=1.14.0 in c:\\users\\hp\\downloads\\anaconda2023\\lib\\site-packages (from category-encoders) (1.26.4)\n",
      "Requirement already satisfied: scikit-learn>=0.20.0 in c:\\users\\hp\\downloads\\anaconda2023\\lib\\site-packages (from category-encoders) (1.2.2)\n",
      "Requirement already satisfied: scipy>=1.0.0 in c:\\users\\hp\\downloads\\anaconda2023\\lib\\site-packages (from category-encoders) (1.11.4)\n",
      "Requirement already satisfied: statsmodels>=0.9.0 in c:\\users\\hp\\downloads\\anaconda2023\\lib\\site-packages (from category-encoders) (0.14.0)\n",
      "Requirement already satisfied: pandas>=1.0.5 in c:\\users\\hp\\downloads\\anaconda2023\\lib\\site-packages (from category-encoders) (2.1.4)\n",
      "Requirement already satisfied: patsy>=0.5.1 in c:\\users\\hp\\downloads\\anaconda2023\\lib\\site-packages (from category-encoders) (0.5.3)\n",
      "Requirement already satisfied: python-dateutil>=2.8.2 in c:\\users\\hp\\downloads\\anaconda2023\\lib\\site-packages (from pandas>=1.0.5->category-encoders) (2.8.2)\n",
      "Requirement already satisfied: pytz>=2020.1 in c:\\users\\hp\\downloads\\anaconda2023\\lib\\site-packages (from pandas>=1.0.5->category-encoders) (2023.3.post1)\n",
      "Requirement already satisfied: tzdata>=2022.1 in c:\\users\\hp\\downloads\\anaconda2023\\lib\\site-packages (from pandas>=1.0.5->category-encoders) (2023.3)\n",
      "Requirement already satisfied: six in c:\\users\\hp\\downloads\\anaconda2023\\lib\\site-packages (from patsy>=0.5.1->category-encoders) (1.16.0)\n",
      "Requirement already satisfied: joblib>=1.1.1 in c:\\users\\hp\\downloads\\anaconda2023\\lib\\site-packages (from scikit-learn>=0.20.0->category-encoders) (1.2.0)\n",
      "Requirement already satisfied: threadpoolctl>=2.0.0 in c:\\users\\hp\\downloads\\anaconda2023\\lib\\site-packages (from scikit-learn>=0.20.0->category-encoders) (2.2.0)\n",
      "Requirement already satisfied: packaging>=21.3 in c:\\users\\hp\\downloads\\anaconda2023\\lib\\site-packages (from statsmodels>=0.9.0->category-encoders) (23.1)\n",
      "Note: you may need to restart the kernel to use updated packages.\n"
     ]
    }
   ],
   "source": [
    "pip install category-encoders"
   ]
  },
  {
   "cell_type": "code",
   "execution_count": 23,
   "id": "8f5b90d9-c540-4a18-9844-c6540db052aa",
   "metadata": {},
   "outputs": [],
   "source": [
    "from sklearn.model_selection import train_test_split\n",
    "from sklearn.ensemble import RandomForestClassifier\n",
    "from sklearn.preprocessing import OneHotEncoder\n",
    "import pandas as pd"
   ]
  },
  {
   "cell_type": "code",
   "execution_count": 24,
   "id": "d045e1c7-4434-4753-8890-d0f09f408c98",
   "metadata": {},
   "outputs": [],
   "source": [
    "categorical_cols = df_optimized.select_dtypes(include=['object']).columns"
   ]
  },
  {
   "cell_type": "code",
   "execution_count": 25,
   "id": "c066922d-7da6-4122-8a2c-1ad2f02c7567",
   "metadata": {},
   "outputs": [],
   "source": [
    "from category_encoders import TargetEncoder\n"
   ]
  },
  {
   "cell_type": "code",
   "execution_count": 26,
   "id": "daaafbf2-800b-4d47-bb21-727b57bac64d",
   "metadata": {},
   "outputs": [
    {
     "name": "stdout",
     "output_type": "stream",
     "text": [
      "Warning: No categorical columns found. Calling 'transform' will only return input data.\n"
     ]
    }
   ],
   "source": [
    "encoder = TargetEncoder()\n",
    "df_target_encoded = encoder.fit_transform(df_optimized[categorical_cols], df_optimized['Crime_No'])"
   ]
  },
  {
   "cell_type": "code",
   "execution_count": 27,
   "id": "8868d3f7-0422-4486-a963-7f73a8f92cbf",
   "metadata": {},
   "outputs": [],
   "source": [
    "df_optimized.index = df_optimized.index.astype('int32')"
   ]
  },
  {
   "cell_type": "code",
   "execution_count": 28,
   "id": "a073a1e9-26e9-4cfe-8f94-92e92a1e88d3",
   "metadata": {},
   "outputs": [],
   "source": [
    "df_optimized[categorical_cols] = df_optimized[categorical_cols].astype('category')"
   ]
  },
  {
   "cell_type": "code",
   "execution_count": 33,
   "id": "23d7989f-5658-4eea-ac04-71223af1d339",
   "metadata": {},
   "outputs": [],
   "source": [
    "from sklearn.model_selection import train_test_split\n",
    "\n",
    "# Specify the fraction of the dataset to use for training\n",
    "train_fraction = 0.8\n",
    "\n",
    "# Split the dataset into training and testing sets\n",
    "X_train, X_test, y_train, y_test = train_test_split(df_optimized, df_optimized['Crime_No'], train_size=train_fraction, random_state=42)\n",
    "\n",
    "\n"
   ]
  },
  {
   "cell_type": "code",
   "execution_count": null,
   "id": "37d204b4-de9d-4958-ab29-3a7459e9a759",
   "metadata": {},
   "outputs": [],
   "source": []
  },
  {
   "cell_type": "code",
   "execution_count": null,
   "id": "cf70a422-dad6-4770-ace2-4212c15a71e7",
   "metadata": {},
   "outputs": [],
   "source": []
  },
  {
   "cell_type": "code",
   "execution_count": 34,
   "id": "a20153ef-c12a-4e4c-a863-5a5b7e4b8e1b",
   "metadata": {},
   "outputs": [],
   "source": [
    "# Initialize the RandomForestClassifier\n",
    "rf_classifier = RandomForestClassifier()"
   ]
  },
  {
   "cell_type": "code",
   "execution_count": null,
   "id": "33b1ecbe-04b2-43f1-8b77-2d0b2b9a64d4",
   "metadata": {},
   "outputs": [],
   "source": [
    "rf_classifier.fit(X_train, y_train)"
   ]
  },
  {
   "cell_type": "code",
   "execution_count": null,
   "id": "db7ce36e-1ac2-4ad1-b6eb-24c1d9a838b6",
   "metadata": {},
   "outputs": [],
   "source": []
  },
  {
   "cell_type": "code",
   "execution_count": null,
   "id": "b29ec134-d046-4efe-9fc4-917089b19c57",
   "metadata": {},
   "outputs": [],
   "source": []
  },
  {
   "cell_type": "code",
   "execution_count": null,
   "id": "8c91339c-80d8-4109-802c-84d48ea7d468",
   "metadata": {},
   "outputs": [],
   "source": []
  },
  {
   "cell_type": "code",
   "execution_count": null,
   "id": "9679b870-469e-480d-b353-bb7928ca7309",
   "metadata": {},
   "outputs": [],
   "source": []
  },
  {
   "cell_type": "code",
   "execution_count": null,
   "id": "c6f54c78-8935-4f53-988b-02839b77e905",
   "metadata": {},
   "outputs": [],
   "source": []
  },
  {
   "cell_type": "code",
   "execution_count": null,
   "id": "595d0367-80ba-4209-a7f8-be29365c6e8a",
   "metadata": {},
   "outputs": [],
   "source": []
  }
 ],
 "metadata": {
  "kernelspec": {
   "display_name": "Python 3 (ipykernel)",
   "language": "python",
   "name": "python3"
  },
  "language_info": {
   "codemirror_mode": {
    "name": "ipython",
    "version": 3
   },
   "file_extension": ".py",
   "mimetype": "text/x-python",
   "name": "python",
   "nbconvert_exporter": "python",
   "pygments_lexer": "ipython3",
   "version": "3.11.7"
  }
 },
 "nbformat": 4,
 "nbformat_minor": 5
}
