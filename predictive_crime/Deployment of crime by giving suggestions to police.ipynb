{
 "cells": [
  {
   "cell_type": "code",
   "execution_count": 1,
   "id": "cbff73fc-6b6c-4bef-ba98-6318bf197074",
   "metadata": {},
   "outputs": [],
   "source": [
    "import pandas as pd\n",
    "\n",
    "# Load the dataset\n",
    "df = pd.read_csv('preprocessed_df1.csv',low_memory=False)\n",
    "\n"
   ]
  },
  {
   "cell_type": "code",
   "execution_count": 2,
   "id": "951f594a-eec0-4d62-bb2e-ab63b5c4e5aa",
   "metadata": {},
   "outputs": [
    {
     "name": "stdout",
     "output_type": "stream",
     "text": [
      "<class 'pandas.core.frame.DataFrame'>\n",
      "RangeIndex: 1674734 entries, 0 to 1674733\n",
      "Data columns (total 41 columns):\n",
      " #   Column                       Non-Null Count    Dtype  \n",
      "---  ------                       --------------    -----  \n",
      " 0   District_Name                1674734 non-null  object \n",
      " 1   UnitName                     1674734 non-null  object \n",
      " 2   FIRNo                        1674734 non-null  object \n",
      " 3   RI                           1674734 non-null  int64  \n",
      " 4   Year                         1674734 non-null  int64  \n",
      " 5   Month                        1674734 non-null  int64  \n",
      " 6   Offence_From_Date            1674734 non-null  object \n",
      " 7   Offence_To_Date              1674734 non-null  object \n",
      " 8   FIR_Reg_DateTime             1674734 non-null  object \n",
      " 9   FIR Type                     1674734 non-null  object \n",
      " 10  FIR_Stage                    1674734 non-null  object \n",
      " 11  Complaint_Mode               1674734 non-null  object \n",
      " 12  CrimeGroup_Name              1674734 non-null  object \n",
      " 13  CrimeHead_Name               1674734 non-null  object \n",
      " 14  Latitude                     1674734 non-null  float64\n",
      " 15  Longitude                    1674734 non-null  float64\n",
      " 16  ActSection                   1674734 non-null  object \n",
      " 17  IOName                       1674734 non-null  object \n",
      " 18  KGID                         1674734 non-null  object \n",
      " 19  Internal_IO                  1674734 non-null  int64  \n",
      " 20  Place of Offence             1674734 non-null  object \n",
      " 21  Distance from PS             1674734 non-null  object \n",
      " 22  Beat_Name                    1674734 non-null  object \n",
      " 23  Village_Area_Name            1674734 non-null  object \n",
      " 24  Male                         1674734 non-null  int64  \n",
      " 25  Female                       1674734 non-null  int64  \n",
      " 26  Boy                          1674734 non-null  int64  \n",
      " 27  Girl                         1674734 non-null  int64  \n",
      " 28  Age 0                        1674734 non-null  int64  \n",
      " 29  VICTIM COUNT                 1674734 non-null  int64  \n",
      " 30  Accused Count                1674734 non-null  int64  \n",
      " 31  Arrested Male                1674734 non-null  int64  \n",
      " 32  Arrested Female              1674734 non-null  int64  \n",
      " 33  Arrested Count\tNo.           1674734 non-null  int64  \n",
      " 34  Accused_ChargeSheeted Count  1674734 non-null  int64  \n",
      " 35  Conviction Count             1674734 non-null  int64  \n",
      " 36  FIR_ID                       1674734 non-null  int64  \n",
      " 37  Unit_ID                      1674734 non-null  int64  \n",
      " 38  Crime_No                     1674734 non-null  int64  \n",
      " 39  Year_Month                   1674734 non-null  object \n",
      " 40  Coordinates                  1674734 non-null  object \n",
      "dtypes: float64(2), int64(19), object(20)\n",
      "memory usage: 523.9+ MB\n",
      "None\n",
      "              RI          Year         Month      Latitude     Longitude  \\\n",
      "count  1674734.0  1.674734e+06  1.674734e+06  1.674734e+06  1.674734e+06   \n",
      "mean         1.0  2.019501e+03  6.266358e+00  4.789174e+00  2.260796e+01   \n",
      "std          0.0  2.469925e+00  3.450955e+00  9.327971e+00  3.486435e+01   \n",
      "min          1.0  2.016000e+03  1.000000e+00 -7.709293e-01  0.000000e+00   \n",
      "25%          1.0  2.017000e+03  3.000000e+00  0.000000e+00  0.000000e+00   \n",
      "50%          1.0  2.019000e+03  6.000000e+00  0.000000e+00  0.000000e+00   \n",
      "75%          1.0  2.022000e+03  9.000000e+00  1.290579e+01  7.501959e+01   \n",
      "max          1.0  2.024000e+03  1.200000e+01  1.314300e+02  7.777447e+02   \n",
      "\n",
      "        Internal_IO          Male        Female           Boy          Girl  \\\n",
      "count  1.674734e+06  1.674734e+06  1.674734e+06  1.674734e+06  1.674734e+06   \n",
      "mean   1.051161e+08  5.303833e-01  2.317622e-01  2.652123e-02  4.015265e-02   \n",
      "std    7.681279e+07  7.870947e-01  5.770345e-01  2.037076e-01  2.336262e-01   \n",
      "min    3.800000e+01  0.000000e+00  0.000000e+00  0.000000e+00  0.000000e+00   \n",
      "25%    4.860045e+07  0.000000e+00  0.000000e+00  0.000000e+00  0.000000e+00   \n",
      "50%    1.077015e+08  0.000000e+00  0.000000e+00  0.000000e+00  0.000000e+00   \n",
      "75%    1.457000e+08  1.000000e+00  0.000000e+00  0.000000e+00  0.000000e+00   \n",
      "max    1.943000e+09  9.400000e+01  7.300000e+01  4.500000e+01  4.800000e+01   \n",
      "\n",
      "       ...  VICTIM COUNT  Accused Count  Arrested Male  Arrested Female  \\\n",
      "count  ...  1.674734e+06   1.674734e+06   1.674734e+06     1.674734e+06   \n",
      "mean   ...  2.770589e-04   1.781986e+00   8.225838e-01     7.803388e-02   \n",
      "std    ...  2.590512e-02   2.749553e+00   1.751272e+00     4.360260e-01   \n",
      "min    ...  0.000000e+00   0.000000e+00   0.000000e+00     0.000000e+00   \n",
      "25%    ...  0.000000e+00   1.000000e+00   0.000000e+00     0.000000e+00   \n",
      "50%    ...  0.000000e+00   1.000000e+00   0.000000e+00     0.000000e+00   \n",
      "75%    ...  0.000000e+00   2.000000e+00   1.000000e+00     0.000000e+00   \n",
      "max    ...  1.600000e+01   2.890000e+02   2.020000e+02     6.300000e+01   \n",
      "\n",
      "       Arrested Count\\tNo.  Accused_ChargeSheeted Count  Conviction Count  \\\n",
      "count         1.674734e+06                 1.674734e+06      1.674734e+06   \n",
      "mean          9.011616e-01                 1.543073e+00      3.455367e-01   \n",
      "std           1.898087e+00                 2.568923e+00      1.156185e+00   \n",
      "min           0.000000e+00                 0.000000e+00      0.000000e+00   \n",
      "25%           0.000000e+00                 0.000000e+00      0.000000e+00   \n",
      "50%           0.000000e+00                 1.000000e+00      0.000000e+00   \n",
      "75%           1.000000e+00                 2.000000e+00      0.000000e+00   \n",
      "max           2.070000e+02                 3.300000e+02      7.400000e+01   \n",
      "\n",
      "             FIR_ID       Unit_ID      Crime_No  \n",
      "count  1.674734e+06  1.674734e+06  1.674734e+06  \n",
      "mean   2.019501e+09  1.196230e+03  1.053629e+16  \n",
      "std    2.469917e+06  6.150639e+02  8.544647e+14  \n",
      "min    2.016000e+09  6.000000e+00  1.043801e+16  \n",
      "25%    2.017000e+09  7.520000e+02  1.044318e+16  \n",
      "50%    2.019000e+09  1.336000e+03  1.044919e+16  \n",
      "75%    2.022000e+09  1.642000e+03  1.046321e+16  \n",
      "max    2.024000e+09  2.348000e+03  1.044322e+17  \n",
      "\n",
      "[8 rows x 21 columns]\n",
      "  District_Name    UnitName      FIRNo  RI  Year  Month    Offence_From_Date  \\\n",
      "0      Bagalkot  Amengad PS  0001/2016   1  2016      1  2015-12-27 12:00:00   \n",
      "1      Bagalkot  Amengad PS  0002/2016   1  2016      1  2016-01-12 17:30:00   \n",
      "2      Bagalkot  Amengad PS  0003/2016   1  2016      1  2016-01-12 17:45:00   \n",
      "3      Bagalkot  Amengad PS  0004/2016   1  2016      1  2016-01-14 21:30:00   \n",
      "4      Bagalkot  Amengad PS  0005/2016   1  2016      1  2016-01-18 15:00:00   \n",
      "\n",
      "       Offence_To_Date         FIR_Reg_DateTime     FIR Type  ...  \\\n",
      "0  2015-12-27 12:05:00  2016-01-05 11:00:00.000  Non Heinous  ...   \n",
      "1  2016-01-12 17:35:00  2016-01-12 19:00:00.000  Non Heinous  ...   \n",
      "2  2016-01-12 17:50:00  2016-01-12 19:30:00.000  Non Heinous  ...   \n",
      "3  2016-01-14 21:35:00  2016-01-15 14:00:00.000  Non Heinous  ...   \n",
      "4  2016-01-18 15:05:00  2016-01-18 19:30:00.000      Heinous  ...   \n",
      "\n",
      "  Arrested Male Arrested Female Arrested Count\\tNo.  \\\n",
      "0             1               0                   1   \n",
      "1             5               0                   5   \n",
      "2             1               0                   1   \n",
      "3             1               0                   1   \n",
      "4             1               0                   1   \n",
      "\n",
      "  Accused_ChargeSheeted Count  Conviction Count      FIR_ID Unit_ID  \\\n",
      "0                           1                 0  2016000002    1245   \n",
      "1                           5                 2  2016000003    1245   \n",
      "2                           1                 0  2016000004    1245   \n",
      "3                           1                 0  2016000005    1245   \n",
      "4                           1                 0  2016000006    1245   \n",
      "\n",
      "            Crime_No Year_Month  Coordinates  \n",
      "0  10470124520160001     2016-1  POINT (0 0)  \n",
      "1  10470124520160002     2016-1  POINT (0 0)  \n",
      "2  10470124520160003     2016-1  POINT (0 0)  \n",
      "3  10470124520160004     2016-1  POINT (0 0)  \n",
      "4  10470124520160005     2016-1  POINT (0 0)  \n",
      "\n",
      "[5 rows x 41 columns]\n"
     ]
    }
   ],
   "source": [
    "# Display basic information about the dataset\n",
    "print(df.info())\n",
    "\n",
    "# Display summary statistics\n",
    "print(df.describe())\n",
    "\n",
    "# Display a sample of the dataset\n",
    "print(df.head())"
   ]
  },
  {
   "cell_type": "code",
   "execution_count": 3,
   "id": "aa652399-2a1f-45d2-a62b-3eecac5151ef",
   "metadata": {},
   "outputs": [],
   "source": [
    "import pandas as pd\n",
    "from sklearn.cluster import KMeans\n",
    "import matplotlib.pyplot as plt"
   ]
  },
  {
   "cell_type": "code",
   "execution_count": 4,
   "id": "0486f425-b5dc-4a47-b5d0-23dcbd2f5362",
   "metadata": {},
   "outputs": [],
   "source": [
    "    \n",
    "features = ['Latitude', 'Longitude']"
   ]
  },
  {
   "cell_type": "code",
   "execution_count": 5,
   "id": "eaa965ef-d59c-4ba6-b4a6-29f404b21397",
   "metadata": {},
   "outputs": [],
   "source": [
    "df = df[df['Latitude'] != 0.0]\n",
    "df = df[df['Longitude'] != 0.0]"
   ]
  },
  {
   "cell_type": "code",
   "execution_count": 6,
   "id": "63859a68-f888-4503-8212-904d83ab4692",
   "metadata": {},
   "outputs": [],
   "source": [
    "X = df[features]\n",
    "X = (X - X.mean()) / X.std()\n"
   ]
  },
  {
   "cell_type": "code",
   "execution_count": 7,
   "id": "864b8258-10ff-4c2e-918f-11f50701b040",
   "metadata": {},
   "outputs": [],
   "source": [
    "kmeans = KMeans(n_clusters=5, random_state=42)\n",
    "df['Cluster'] = kmeans.fit_predict(X)"
   ]
  },
  {
   "cell_type": "code",
   "execution_count": 8,
   "id": "e0aa9cd6-d8ba-4531-bdf9-c5bcd09e4c2d",
   "metadata": {},
   "outputs": [
    {
     "data": {
      "image/png": "[encoded data removed]",
      "text/plain": [
       "<Figure size 1000x600 with 2 Axes>"
      ]
     },
     "metadata": {},
     "output_type": "display_data"
    }
   ],
   "source": [
    "# Visualize the clusters\n",
    "plt.figure(figsize=(10, 6))\n",
    "plt.scatter(df['Longitude'], df['Latitude'], c=df['Cluster'], cmap='viridis')\n",
    "plt.xlabel('Longitude')\n",
    "plt.ylabel('Latitude')\n",
    "plt.title('Crime Hotspots')\n",
    "plt.colorbar(label='Cluster')\n",
    "plt.show()"
   ]
  },
  {
   "cell_type": "code",
   "execution_count": 9,
   "id": "7e6163f8-2de8-42ea-aad1-90ec453f11ea",
   "metadata": {},
   "outputs": [
    {
     "name": "stdout",
     "output_type": "stream",
     "text": [
      "Cluster Centroids:\n",
      "Cluster 1: Latitude -0.26422258862143544, Longitude 0.20995286302188396\n",
      "Cluster 2: Latitude 5.807340212427239, Longitude -5.187200322115958\n",
      "Cluster 3: Latitude -1.2370956602478993, Longitude -5.921660553559043\n",
      "Cluster 4: Latitude -0.2676250405698054, Longitude 59.52073073889781\n",
      "Cluster 5: Latitude 0.021399105786491693, Longitude 0.09842015522853491\n"
     ]
    }
   ],
   "source": [
    "# Calculate the centroid of each cluster\n",
    "centroids = kmeans.cluster_centers_\n",
    "print(\"Cluster Centroids:\")\n",
    "for i, centroid in enumerate(centroids):\n",
    "    print(f\"Cluster {i+1}: Latitude {centroid[0]}, Longitude {centroid[1]}\")"
   ]
  },
  {
   "cell_type": "code",
   "execution_count": 10,
   "id": "b7cdc0e8-b7ad-458a-a852-e6826c6e2fc2",
   "metadata": {},
   "outputs": [
    {
     "name": "stdout",
     "output_type": "stream",
     "text": [
      "Requirement already satisfied: geopy in c:\\users\\hp\\appdata\\local\\programs\\python\\python312\\lib\\site-packages (2.4.1)\n",
      "Requirement already satisfied: geographiclib<3,>=1.52 in c:\\users\\hp\\appdata\\local\\programs\\python\\python312\\lib\\site-packages (from geopy) (2.0)\n",
      "Note: you may need to restart the kernel to use updated packages.\n"
     ]
    }
   ],
   "source": [
    "pip install geopy"
   ]
  },
  {
   "cell_type": "code",
   "execution_count": 11,
   "id": "7f22950d-a6f9-489b-abc1-2b6d730f4e2d",
   "metadata": {},
   "outputs": [],
   "source": [
    "import pandas as pd\n",
    "from geopy.distance import distance\n",
    "\n",
    "# Assuming you have a list of latitude and longitude values for police stations\n",
    "# Replace latitude_list and longitude_list with your actual lists of latitude and longitude values\n",
    "latitude_list = [...]  # List of latitude values\n",
    "longitude_list = [...]  # List of longitude values\n",
    "\n"
   ]
  },
  {
   "cell_type": "code",
   "execution_count": 12,
   "id": "ade57e6e-e3a2-4051-80b6-d06297718fd0",
   "metadata": {},
   "outputs": [],
   "source": [
    "latitude_list = [-0.26350117329990513, 5.807340212426832, -1.2370956602478118, -0.2676250405697857, 0.023547431083855475]\n",
    "longitude_list = [0.20905869782346226, -5.187200322116295, -5.921660553559399, 59.52073073890124, 0.09870306054587759]"
   ]
  },
  {
   "cell_type": "code",
   "execution_count": 13,
   "id": "24d9008b-2a88-4b09-8d05-717ce7a63a60",
   "metadata": {},
   "outputs": [],
   "source": [
    "police_stations = pd.DataFrame({\n",
    "    'Latitude': latitude_list,\n",
    "    'Longitude': longitude_list\n",
    "})"
   ]
  },
  {
   "cell_type": "code",
   "execution_count": null,
   "id": "d617dcd5-4379-45ca-b93d-6ed305dfeccd",
   "metadata": {},
   "outputs": [],
   "source": []
  },
  {
   "cell_type": "code",
   "execution_count": 14,
   "id": "733a5d63-6657-4934-90f8-e6f190e1a91b",
   "metadata": {},
   "outputs": [],
   "source": [
    "latitude_list = [-0.26350117329990513, 5.807340212426832, -1.2370956602478118, -0.2676250405697857, 0.023547431083855475]\n",
    "longitude_list = [0.20905869782346226, -5.187200322116295, -5.921660553559399, 59.52073073890124, 0.09870306054587759]\n"
   ]
  },
  {
   "cell_type": "code",
   "execution_count": 15,
   "id": "4671e4cd-cc64-4f49-8ffc-7536014ebde2",
   "metadata": {},
   "outputs": [],
   "source": [
    "# Define the centroids list with Latitude and Longitude for each cluster\n",
    "centroids = [\n",
    "    {'Latitude': -0.26350117329990513, 'Longitude': 0.20905869782346226},\n",
    "    {'Latitude': 5.807340212426832, 'Longitude': -5.187200322116295},\n",
    "    {'Latitude': -1.2370956602478118, 'Longitude': -5.921660553559399},\n",
    "    {'Latitude': -0.2676250405697857, 'Longitude': 59.52073073890124},\n",
    "    {'Latitude': 0.023547431083855475, 'Longitude': 0.09870306054587759}\n",
    "]"
   ]
  },
  {
   "cell_type": "code",
   "execution_count": 16,
   "id": "5f26085b-0a7a-46ff-8ead-bc5ee14bb613",
   "metadata": {},
   "outputs": [],
   "source": [
    "# Function to calculate distance between two coordinates\n",
    "def calculate_distance(coord1, coord2):\n",
    "    return distance(coord1, coord2).km"
   ]
  },
  {
   "cell_type": "code",
   "execution_count": 17,
   "id": "1a9dad48-b43b-448e-8453-fdccbf3b1ddd",
   "metadata": {},
   "outputs": [],
   "source": [
    "\n",
    "# Assign each police station to the closest cluster\n",
    "police_stations['Cluster'] = police_stations.apply(\n",
    "    lambda x: min(range(5), key=lambda i: calculate_distance((x['Latitude'], x['Longitude']), \n",
    "                                                              (centroids[i]['Latitude'], centroids[i]['Longitude']))),\n",
    "    axis=1\n",
    ")"
   ]
  },
  {
   "cell_type": "code",
   "execution_count": 18,
   "id": "672b77b3-d902-4832-b216-0fc3a8b0681a",
   "metadata": {},
   "outputs": [
    {
     "name": "stdout",
     "output_type": "stream",
     "text": [
      "   Latitude  Longitude  Cluster\n",
      "0 -0.263501   0.209059        0\n",
      "1  5.807340  -5.187200        1\n",
      "2 -1.237096  -5.921661        2\n",
      "3 -0.267625  59.520731        3\n",
      "4  0.023547   0.098703        4\n"
     ]
    }
   ],
   "source": [
    "# Print the police stations with their assigned cluster\n",
    "print(police_stations)"
   ]
  },
  {
   "cell_type": "code",
   "execution_count": 19,
   "id": "f6867914-b96e-4a5e-abb9-22e1adb652fb",
   "metadata": {},
   "outputs": [
    {
     "name": "stdout",
     "output_type": "stream",
     "text": [
      "   Latitude  Longitude Place_of_Offense\n",
      "0 -0.263501   0.209059        Cluster 1\n",
      "1  5.807340  -5.187200        Cluster 2\n",
      "2 -1.237096  -5.921661        Cluster 3\n",
      "3 -0.267625  59.520731        Cluster 4\n",
      "4  0.023547   0.098703        Cluster 5\n"
     ]
    }
   ],
   "source": [
    "import numpy as np\n",
    "\n",
    "# Define the latitude and longitude of the cluster centroids\n",
    "centroids = {\n",
    "    1: {'Latitude': -0.26350117329990513, 'Longitude': 0.20905869782346226},\n",
    "    2: {'Latitude': 5.807340212426832, 'Longitude': -5.187200322116295},\n",
    "    3: {'Latitude': -1.2370956602478118, 'Longitude': -5.921660553559399},\n",
    "    4: {'Latitude': -0.2676250405697857, 'Longitude': 59.52073073890124},\n",
    "    5: {'Latitude': 0.023547431083855475, 'Longitude': 0.09870306054587759}\n",
    "}\n",
    "\n",
    "# Function to calculate distance between two points\n",
    "def calculate_distance(coord1, coord2):\n",
    "    return np.sqrt((coord1[0] - coord2[0]) ** 2 + (coord1[1] - coord2[1]) ** 2)\n",
    "\n",
    "# Function to find the closest centroid for each offense\n",
    "def find_place_of_offense(row):\n",
    "    offense_location = (row['Latitude'], row['Longitude'])\n",
    "    closest_centroid = min(centroids.keys(), key=lambda x: calculate_distance(offense_location, (centroids[x]['Latitude'], centroids[x]['Longitude'])))\n",
    "    return f\"Cluster {closest_centroid}\"\n",
    "\n",
    "# Apply the function to each row in the DataFrame\n",
    "police_stations['Place_of_Offense'] = police_stations.apply(find_place_of_offense, axis=1)\n",
    "\n",
    "# Display the DataFrame with the assigned place of offense\n",
    "print(police_stations[['Latitude', 'Longitude', 'Place_of_Offense']])\n"
   ]
  },
  {
   "cell_type": "code",
   "execution_count": 20,
   "id": "e524e881-f25c-41c4-8857-90dd4a15b97f",
   "metadata": {},
   "outputs": [
    {
     "name": "stdout",
     "output_type": "stream",
     "text": [
      "Latitudes:\n",
      "605        16.054967\n",
      "606        16.141122\n",
      "607        16.135827\n",
      "608        16.109622\n",
      "609        16.109778\n",
      "             ...    \n",
      "1674729    16.748633\n",
      "1674730    16.844536\n",
      "1674731    16.556974\n",
      "1674732    16.772232\n",
      "1674733    16.800526\n",
      "Name: Latitude, Length: 508066, dtype: float64\n",
      "\n",
      "Longitudes:\n",
      "605        75.950667\n",
      "606        75.910169\n",
      "607        75.919221\n",
      "608        75.931844\n",
      "609        75.931920\n",
      "             ...    \n",
      "1674729    77.133669\n",
      "1674730    77.021722\n",
      "1674731    77.159238\n",
      "1674732    77.117018\n",
      "1674733    77.141569\n",
      "Name: Longitude, Length: 508066, dtype: float64\n",
      "\n",
      "Places of Offense:\n",
      "605        AMINAGAD CIT PATTANA PACHAYATI NEAR PUBLIC PLA...\n",
      "606               MUGANUR BUSTAND NEAR, MUGANUR BUSTAND NEAR\n",
      "607        BASAVANAL VILLAGE BAILAKUR FIELD NEAR, BASAVAN...\n",
      "608        HIREMAGI VILLAGE R S NO 136/5  FIELD, HIREMAGI...\n",
      "609        HIREMAGI VILLAGE R S NO 136/2 FIELD, HIREMAGI ...\n",
      "                                 ...                        \n",
      "1674729    at Yadgiri New Busstand Near, at Yadgiri New B...\n",
      "1674730    at Talak Village Infront of Complainat House, ...\n",
      "1674731    at Bilahar Village in Complainant House, at Bi...\n",
      "1674732    at Opposite Mini Vidanasouda in Accuseds House...\n",
      "1674733    Bandalli Village Near complainant's house, Ban...\n",
      "Name: Place of Offence, Length: 508066, dtype: object\n"
     ]
    }
   ],
   "source": [
    "import pandas as pd\n",
    "\n",
    "# Assuming your dataset is named 'crime_data' and contains columns 'Latitude', 'Longitude', and 'Place_of_Offense'\n",
    "# If your dataset is in a CSV file, you can read it into a DataFrame using pd.read_csv('file_path.csv')\n",
    "# If your dataset is in an Excel file, you can read it using pd.read_excel('file_path.xlsx')\n",
    "\n",
    "# Selecting all latitudes, longitudes, and places of offense\n",
    "latitudes = df['Latitude']\n",
    "longitudes = df['Longitude']\n",
    "places_of_offense = df['Place of Offence']\n",
    "\n",
    "# Displaying the selected data\n",
    "print(\"Latitudes:\")\n",
    "print(latitudes)\n",
    "\n",
    "print(\"\\nLongitudes:\")\n",
    "print(longitudes)\n",
    "\n",
    "print(\"\\nPlaces of Offense:\")\n",
    "print(places_of_offense)\n"
   ]
  },
  {
   "cell_type": "code",
   "execution_count": 21,
   "id": "ac91323e-b68d-4f93-a450-c2e73b77c381",
   "metadata": {},
   "outputs": [],
   "source": [
    "import pandas as pd\n",
    "from geopy.distance import geodesic\n",
    "\n"
   ]
  },
  {
   "cell_type": "code",
   "execution_count": 22,
   "id": "9724e0e8-1e30-438f-b970-4ac9c4f45348",
   "metadata": {},
   "outputs": [],
   "source": [
    "df_sample = df.sample(frac=0.001,random_state=1)"
   ]
  },
  {
   "cell_type": "code",
   "execution_count": 23,
   "id": "75cc7d42-8d3a-4513-bc52-e39d35295a7d",
   "metadata": {},
   "outputs": [],
   "source": [
    "df_valid = df_sample[(df_sample['Latitude'] >= -90) & (df_sample['Latitude'] <= 90)]"
   ]
  },
  {
   "cell_type": "code",
   "execution_count": 24,
   "id": "7512b294-1d74-42e2-9830-10e9fc64cb89",
   "metadata": {},
   "outputs": [],
   "source": [
    "def calculate_distance(coord1, coord2):\n",
    "    return geodesic(coord1, coord2).km"
   ]
  },
  {
   "cell_type": "code",
   "execution_count": 25,
   "id": "7d3788b2-0bd3-4286-bfb8-0dddd3549829",
   "metadata": {},
   "outputs": [],
   "source": [
    "# Assign each place of offense to the closest cluster\n",
    "df_valid['Cluster'] = df_valid.apply(\n",
    "    lambda x: min(centroids.keys(), key=lambda c: calculate_distance((x['Latitude'], x['Longitude']), \n",
    "                                                                     (centroids[c]['Latitude'], centroids[c]['Longitude']))),\n",
    "    axis=1\n",
    ")"
   ]
  },
  {
   "cell_type": "code",
   "execution_count": 26,
   "id": "8c329d52-ace0-4a31-a687-693ae2e3cd89",
   "metadata": {},
   "outputs": [
    {
     "name": "stdout",
     "output_type": "stream",
     "text": [
      "Cluster 1:\n",
      "Centroid: Latitude -0.26350117329990513, Longitude 0.20905869782346226\n",
      "Number of Incidents: 1\n",
      "Suggestions: Continue monitoring the area and conduct periodic patrols to maintain security.\n",
      "\n",
      "Cluster 2:\n",
      "Centroid: Latitude 5.807340212426832, Longitude -5.187200322116295\n",
      "Number of Incidents: 14\n",
      "Suggestions: Intensify surveillance efforts and consider implementing community policing strategies.\n",
      "\n",
      "Cluster 3:\n",
      "Centroid: Latitude -1.2370956602478118, Longitude -5.921660553559399\n",
      "Number of Incidents: 0\n",
      "Suggestions: Increase police presence and conduct thorough investigations to prevent future incidents.\n",
      "\n",
      "Cluster 4:\n",
      "Centroid: Latitude -0.2676250405697857, Longitude 59.52073073890124\n",
      "Number of Incidents: 493\n",
      "Suggestions: Intensify surveillance efforts and consider implementing community policing strategies.\n",
      "\n",
      "Cluster 5:\n",
      "Centroid: Latitude 0.023547431083855475, Longitude 0.09870306054587759\n",
      "Number of Incidents: 0\n",
      "Suggestions: Increase police presence and conduct thorough investigations to prevent future incidents.\n",
      "\n"
     ]
    }
   ],
   "source": [
    "deployment_plan = {}\n",
    "for cluster in centroids.keys():\n",
    "    cluster_data = df_valid[df_valid['Cluster'] == cluster]\n",
    "    number_of_incidents = len(cluster_data)\n",
    "    suggestions = \"\"\n",
    "    \n",
    "    if number_of_incidents == 0:\n",
    "        suggestions = \"Increase police presence and conduct thorough investigations to prevent future incidents.\"\n",
    "    elif number_of_incidents <= 10:\n",
    "        suggestions = \"Continue monitoring the area and conduct periodic patrols to maintain security.\"\n",
    "    else:\n",
    "        suggestions = \"Intensify surveillance efforts and consider implementing community policing strategies.\"\n",
    "    \n",
    "    deployment_plan[cluster] = {\n",
    "        'cluster_centroid': centroids[cluster],\n",
    "        'number_of_incidents': number_of_incidents,\n",
    "        'suggestions': suggestions\n",
    "    }\n",
    "\n",
    "# Print deployment plan\n",
    "for cluster, data in deployment_plan.items():\n",
    "    print(f\"Cluster {cluster}:\")\n",
    "    print(f\"Centroid: Latitude {data['cluster_centroid']['Latitude']}, Longitude {data['cluster_centroid']['Longitude']}\")\n",
    "    print(f\"Number of Incidents: {data['number_of_incidents']}\")\n",
    "    print(f\"Suggestions: {data['suggestions']}\\n\")\n"
   ]
  },
  {
   "cell_type": "code",
   "execution_count": null,
   "id": "ed0d0c96-e07e-411f-b572-0d98e07c1acf",
   "metadata": {},
   "outputs": [],
   "source": []
  }
 ],
 "metadata": {
  "kernelspec": {
   "display_name": "Python 3 (ipykernel)",
   "language": "python",
   "name": "python3"
  },
  "language_info": {
   "codemirror_mode": {
    "name": "ipython",
    "version": 3
   },
   "file_extension": ".py",
   "mimetype": "text/x-python",
   "name": "python",
   "nbconvert_exporter": "python",
   "pygments_lexer": "ipython3",
   "version": "3.12.2"
  }
 },
 "nbformat": 4,
 "nbformat_minor": 5
}
